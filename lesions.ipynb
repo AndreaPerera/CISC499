{
 "cells": [
  {
   "cell_type": "markdown",
   "metadata": {
    "collapsed": true,
    "pycharm": {
     "is_executing": false,
     "name": "#%% md\n"
    }
   },
   "source": [
    "LESION MASKS\n",
    "- Extract abnormal voxels from discrete patient z-maps using lesion masks\n",
    "- Control z-maps will have random voxels extracted for analysis"
   ]
  },
  {
   "cell_type": "code",
   "execution_count": 10,
   "outputs": [],
   "source": [
    "%matplotlib inline\n",
    "import SimpleITK as sitk\n",
    "import numpy as np\n",
    "import os\n",
    "import glob\n",
    "import re\n",
    "import matplotlib.pyplot as plt\n",
    "import random"
   ],
   "metadata": {
    "collapsed": false,
    "pycharm": {
     "name": "#%%\n",
     "is_executing": false
    }
   }
  },
  {
   "cell_type": "markdown",
   "source": [
    "GM"
   ],
   "metadata": {
    "collapsed": false,
    "pycharm": {
     "name": "#%% md\n",
     "is_executing": false
    }
   }
  },
  {
   "cell_type": "code",
   "execution_count": 28,
   "outputs": [
    {
     "name": "stdout",
     "text": [
      "length of discrete: 44\nlength of lesion: 44\n"
     ],
     "output_type": "stream"
    }
   ],
   "source": [
    "# Calculate lesion masks for all GM Z-maps\n",
    "\n",
    "# sort files by patient ID to make masking easier\n",
    "L_files = glob.glob('DISCRETE/Lesion-Masks/*.nii')\n",
    "L_files.sort()\n",
    "\n",
    "D_files = glob.glob('OUTPUT/DISCRETE/GM-OUTPUT/GM-ZMAPS/*.nii')\n",
    "D_files.sort()\n",
    "\n",
    "# use regex to ensure that the files match those of the lesion masks\n",
    "for i in range(len(D_files)):\n",
    "    target = re.search('.*D([0-9][0-9][0-9]).*', os.path.basename(D_files[i]))\n",
    "    found = 'NotMatchable'\n",
    "    if target:\n",
    "        found = target.group(1)     \n",
    "    target2 = None\n",
    "    foundbool = False\n",
    "    for file in L_files:\n",
    "        target2 = re.search('.*D'+ found +'.*', os.path.basename(file))\n",
    "        if target2:\n",
    "            foundbool = True\n",
    "            break\n",
    "    if not foundbool:\n",
    "        D_files[i] = None\n",
    "        \n",
    "# clean up discrete files by removing Nonetype values         \n",
    "D_files = [x for x in D_files if x != None]\n",
    "\n",
    "print(\"length of discrete:\", len(D_files))\n",
    "print(\"length of lesion:\", len(L_files))\n",
    "\n",
    "# read images\n",
    "OUTPUT_DIR = \"OUTPUT/DISCRETE/LESIONS/GM-LESIONS\"\n",
    "for i in range(len(D_files)):\n",
    "    d_img = sitk.ReadImage(D_files[i])\n",
    "    l_img = sitk.ReadImage(L_files[i])\n",
    "    d_arr = sitk.GetArrayFromImage(d_img)\n",
    "    l_arr = sitk.GetArrayFromImage(l_img)\n",
    "    m_arr = d_arr * l_arr\n",
    "    m_img = sitk.GetImageFromArray(m_arr)\n",
    "    m_img.CopyInformation(d_img)\n",
    "    filename = \"L-\" + os.path.basename(D_files[i])\n",
    "    sitk.WriteImage(m_img, os.path.join(OUTPUT_DIR, filename))"
   ],
   "metadata": {
    "collapsed": false,
    "pycharm": {
     "name": "#%%\n",
     "is_executing": false
    }
   }
  },
  {
   "cell_type": "markdown",
   "source": [
    "FA"
   ],
   "metadata": {
    "collapsed": false
   }
  },
  {
   "cell_type": "code",
   "execution_count": 29,
   "outputs": [
    {
     "name": "stdout",
     "text": [
      "length of discrete: 44\nlength of lesion: 44\n"
     ],
     "output_type": "stream"
    }
   ],
   "source": [
    "# Calculate lesion masks for all FA Z-maps\n",
    "\n",
    "# sort files by patient ID to make masking easier\n",
    "# already calculated above\n",
    "# L_files = glob.glob('DISCRETE/Lesion-Masks/*.nii')\n",
    "# L_files.sort()\n",
    "\n",
    "D_files = glob.glob('OUTPUT/DISCRETE/FA-OUTPUT/FA-ZMAPS/*.nii')\n",
    "D_files.sort()\n",
    "\n",
    "# use regex to ensure that the files match those of the lesion masks\n",
    "for i in range(len(D_files)):\n",
    "    target = re.search('.*D([0-9][0-9][0-9]).*', os.path.basename(D_files[i]))\n",
    "    found = 'NotMatchable'\n",
    "    if target:\n",
    "        found = target.group(1)     \n",
    "    target2 = None\n",
    "    foundbool = False\n",
    "    for file in L_files:\n",
    "        target2 = re.search('.*D'+ found +'.*', os.path.basename(file))\n",
    "        if target2:\n",
    "            foundbool = True\n",
    "            break\n",
    "    if not foundbool:\n",
    "        D_files[i] = None\n",
    "        \n",
    "# clean up discrete files by removing Nonetype values         \n",
    "D_files = [x for x in D_files if x != None]\n",
    "\n",
    "print(\"length of discrete:\", len(D_files))\n",
    "print(\"length of lesion:\", len(L_files))\n",
    "\n",
    "# read images\n",
    "OUTPUT_DIR = \"OUTPUT/DISCRETE/LESIONS/FA-LESIONS\"\n",
    "for i in range(len(D_files)):\n",
    "    d_img = sitk.ReadImage(D_files[i])\n",
    "    l_img = sitk.ReadImage(L_files[i])\n",
    "    d_arr = sitk.GetArrayFromImage(d_img)\n",
    "    l_arr = sitk.GetArrayFromImage(l_img)\n",
    "    m_arr = d_arr * l_arr\n",
    "    m_img = sitk.GetImageFromArray(m_arr)\n",
    "    m_img.CopyInformation(d_img)\n",
    "    filename = \"L-\" + os.path.basename(D_files[i])\n",
    "    sitk.WriteImage(m_img, os.path.join(OUTPUT_DIR, filename))"
   ],
   "metadata": {
    "collapsed": false,
    "pycharm": {
     "name": "#%%\n",
     "is_executing": false
    }
   }
  },
  {
   "cell_type": "markdown",
   "source": [
    "MD"
   ],
   "metadata": {
    "collapsed": false
   }
  },
  {
   "cell_type": "code",
   "execution_count": 30,
   "outputs": [
    {
     "name": "stdout",
     "text": [
      "length of discrete: 44\nlength of lesion: 44\n"
     ],
     "output_type": "stream"
    }
   ],
   "source": [
    "# Calculate lesion masks for all MD Z-maps\n",
    "\n",
    "# sort files by patient ID to make masking easier\n",
    "# already calculated above\n",
    "# L_files = glob.glob('DISCRETE/Lesion-Masks/*.nii')\n",
    "# L_files.sort()\n",
    "\n",
    "D_files = glob.glob('OUTPUT/DISCRETE/MD-OUTPUT/MD-ZMAPS/*.nii')\n",
    "D_files.sort()\n",
    "\n",
    "# use regex to ensure that the files match those of the lesion masks\n",
    "for i in range(len(D_files)):\n",
    "    target = re.search('.*D([0-9][0-9][0-9]).*', os.path.basename(D_files[i]))\n",
    "    found = 'NotMatchable'\n",
    "    if target:\n",
    "        found = target.group(1)     \n",
    "    target2 = None\n",
    "    foundbool = False\n",
    "    for file in L_files:\n",
    "        target2 = re.search('.*D'+ found +'.*', os.path.basename(file))\n",
    "        if target2:\n",
    "            foundbool = True\n",
    "            break\n",
    "    if not foundbool:\n",
    "        D_files[i] = None\n",
    "        \n",
    "# clean up discrete files by removing Nonetype values         \n",
    "D_files = [x for x in D_files if x != None]\n",
    "\n",
    "print(\"length of discrete:\", len(D_files))\n",
    "print(\"length of lesion:\", len(L_files))\n",
    "\n",
    "# read images\n",
    "OUTPUT_DIR = \"OUTPUT/DISCRETE/LESIONS/MD-LESIONS\"\n",
    "for i in range(len(D_files)):\n",
    "    d_img = sitk.ReadImage(D_files[i])\n",
    "    l_img = sitk.ReadImage(L_files[i])\n",
    "    d_arr = sitk.GetArrayFromImage(d_img)\n",
    "    l_arr = sitk.GetArrayFromImage(l_img)\n",
    "    m_arr = d_arr * l_arr\n",
    "    m_img = sitk.GetImageFromArray(m_arr)\n",
    "    m_img.CopyInformation(d_img)\n",
    "    filename = \"L-\" + os.path.basename(D_files[i])\n",
    "    sitk.WriteImage(m_img, os.path.join(OUTPUT_DIR, filename))"
   ],
   "metadata": {
    "collapsed": false,
    "pycharm": {
     "name": "#%%\n",
     "is_executing": false
    }
   }
  },
  {
   "cell_type": "markdown",
   "source": [
    "ODI"
   ],
   "metadata": {
    "collapsed": false
   }
  },
  {
   "cell_type": "code",
   "execution_count": 31,
   "outputs": [
    {
     "name": "stdout",
     "text": [
      "length of discrete: 44\nlength of lesion: 44\n"
     ],
     "output_type": "stream"
    }
   ],
   "source": [
    "# Calculate lesion masks for all ODI Z-maps\n",
    "\n",
    "# sort files by patient ID to make masking easier\n",
    "# already calculated above\n",
    "# L_files = glob.glob('DISCRETE/Lesion-Masks/*.nii')\n",
    "# L_files.sort()\n",
    "\n",
    "D_files = glob.glob('OUTPUT/DISCRETE/ODI-OUTPUT/ODI-ZMAPS/*.nii')\n",
    "D_files.sort()\n",
    "\n",
    "# use regex to ensure that the files match those of the lesion masks\n",
    "for i in range(len(D_files)):\n",
    "    target = re.search('.*D([0-9][0-9][0-9]).*', os.path.basename(D_files[i]))\n",
    "    found = 'NotMatchable'\n",
    "    if target:\n",
    "        found = target.group(1)     \n",
    "    target2 = None\n",
    "    foundbool = False\n",
    "    for file in L_files:\n",
    "        target2 = re.search('.*D'+ found +'.*', os.path.basename(file))\n",
    "        if target2:\n",
    "            foundbool = True\n",
    "            break\n",
    "    if not foundbool:\n",
    "        D_files[i] = None\n",
    "        \n",
    "# clean up discrete files by removing Nonetype values         \n",
    "D_files = [x for x in D_files if x != None]\n",
    "\n",
    "print(\"length of discrete:\", len(D_files))\n",
    "print(\"length of lesion:\", len(L_files))\n",
    "\n",
    "# read images\n",
    "OUTPUT_DIR = \"OUTPUT/DISCRETE/LESIONS/ODI-LESIONS\"\n",
    "for i in range(len(D_files)):\n",
    "    d_img = sitk.ReadImage(D_files[i])\n",
    "    l_img = sitk.ReadImage(L_files[i])\n",
    "    d_arr = sitk.GetArrayFromImage(d_img)\n",
    "    l_arr = sitk.GetArrayFromImage(l_img)\n",
    "    m_arr = d_arr * l_arr\n",
    "    m_img = sitk.GetImageFromArray(m_arr)\n",
    "    m_img.CopyInformation(d_img)\n",
    "    filename = \"L-\" + os.path.basename(D_files[i])\n",
    "    sitk.WriteImage(m_img, os.path.join(OUTPUT_DIR, filename))\n"
   ],
   "metadata": {
    "collapsed": false,
    "pycharm": {
     "name": "#%%\n",
     "is_executing": false
    }
   }
  },
  {
   "cell_type": "markdown",
   "source": [
    "FICVF"
   ],
   "metadata": {
    "collapsed": false
   }
  },
  {
   "cell_type": "code",
   "execution_count": 32,
   "outputs": [
    {
     "name": "stdout",
     "text": [
      "length of discrete: 44\nlength of lesion: 44\n"
     ],
     "output_type": "stream"
    }
   ],
   "source": [
    "# Calculate lesion masks for all FA Z-maps\n",
    "\n",
    "# sort files by patient ID to make masking easier\n",
    "# already calculated above\n",
    "# L_files = glob.glob('DISCRETE/Lesion-Masks/*.nii')\n",
    "# L_files.sort()\n",
    "\n",
    "D_files = glob.glob('OUTPUT/DISCRETE/FICVF-OUTPUT/FICVF-ZMAPS/*.nii')\n",
    "D_files.sort()\n",
    "\n",
    "# use regex to ensure that the files match those of the lesion masks\n",
    "for i in range(len(D_files)):\n",
    "    target = re.search('.*D([0-9][0-9][0-9]).*', os.path.basename(D_files[i]))\n",
    "    found = 'NotMatchable'\n",
    "    if target:\n",
    "        found = target.group(1)     \n",
    "    target2 = None\n",
    "    foundbool = False\n",
    "    for file in L_files:\n",
    "        target2 = re.search('.*D'+ found +'.*', os.path.basename(file))\n",
    "        if target2:\n",
    "            foundbool = True\n",
    "            break\n",
    "    if not foundbool:\n",
    "        D_files[i] = None\n",
    "        \n",
    "# clean up discrete files by removing Nonetype values         \n",
    "D_files = [x for x in D_files if x != None]\n",
    "\n",
    "print(\"length of discrete:\", len(D_files))\n",
    "print(\"length of lesion:\", len(L_files))\n",
    "\n",
    "# read images\n",
    "OUTPUT_DIR = \"OUTPUT/DISCRETE/LESIONS/FICVF-LESIONS\"\n",
    "for i in range(len(D_files)):\n",
    "    d_img = sitk.ReadImage(D_files[i])\n",
    "    l_img = sitk.ReadImage(L_files[i])\n",
    "    d_arr = sitk.GetArrayFromImage(d_img)\n",
    "    l_arr = sitk.GetArrayFromImage(l_img)\n",
    "    m_arr = d_arr * l_arr\n",
    "    m_img = sitk.GetImageFromArray(m_arr)\n",
    "    m_img.CopyInformation(d_img)\n",
    "    filename = \"L-\" + os.path.basename(D_files[i])\n",
    "    sitk.WriteImage(m_img, os.path.join(OUTPUT_DIR, filename))\n",
    "    "
   ],
   "metadata": {
    "collapsed": false,
    "pycharm": {
     "name": "#%%\n",
     "is_executing": false
    }
   }
  },
  {
   "cell_type": "markdown",
   "source": [
    "Controls"
   ],
   "metadata": {
    "collapsed": false,
    "pycharm": {
     "name": "#%% md\n"
    }
   }
  },
  {
   "cell_type": "code",
   "execution_count": 13,
   "outputs": [],
   "source": [
    "# Need to generate random control areas\n",
    "# will do this by selecting random lesion masks that already exist to isolate region of healthy voxels\n",
    "lesion_list = glob.glob('DISCRETE/Lesion-Masks/*.nii')\n",
    "\n",
    "GM_files = glob.glob('OUTPUT/CONTROL/GM-OUTPUT/GM-ZMAPS/*.nii')\n",
    "GM_files.sort()\n",
    "FA_files = glob.glob('OUTPUT/CONTROL/FA-OUTPUT/FA-ZMAPS/*.nii')\n",
    "FA_files.sort()\n",
    "MD_files = glob.glob('OUTPUT/CONTROL/MD-OUTPUT/MD-ZMAPS/*.nii')\n",
    "MD_files.sort()\n",
    "FICVF_files = glob.glob('OUTPUT/CONTROL/FICVF-OUTPUT/FICVF-ZMAPS/*.nii')\n",
    "FICVF_files.sort()\n",
    "ODI_files = glob.glob('OUTPUT/CONTROL/ODI-OUTPUT/ODI-ZMAPS/*.nii')\n",
    "ODI_files.sort()\n",
    "\n",
    "def extract_region(scan, lsn):\n",
    "    img = sitk.ReadImage(scan)\n",
    "    lesion_img = sitk.ReadImage(lsn)\n",
    "    img_arr = sitk.GetArrayFromImage(img)\n",
    "    lesion_arr = sitk.GetArrayFromImage(lesion_img)\n",
    "    mask_arr = img_arr * lesion_arr\n",
    "    mask_img = sitk.GetImageFromArray(mask_arr)\n",
    "    mask_img.CopyInformation(img)\n",
    "    return mask_img\n",
    "    \n",
    "# for each patient, select random lesion and extract healthy voxels in all modalities\n",
    "for i in range(len(GM_files)):\n",
    "    lesion = random.choice(lesion_list) # select random lesion to use\n",
    "    GM_img = extract_region(GM_files[i], lesion) # do in same loop to ensure we're using same lesion for all modalities\n",
    "    FA_img = extract_region(FA_files[i], lesion) # we can directly index since the lists were sorted\n",
    "    MD_img = extract_region(MD_files[i], lesion)\n",
    "    FICVF_img = extract_region(FICVF_files[i], lesion)\n",
    "    ODI_img = extract_region(ODI_files[i], lesion)\n",
    "    \n",
    "    # GM\n",
    "    GM_filename = \"L-\" + os.path.basename(GM_files[i])\n",
    "    sitk.WriteImage(GM_img, os.path.join(\"OUTPUT/CONTROL/LESIONS/GM-LESIONS\", GM_filename))\n",
    "    \n",
    "    # FA\n",
    "    FA_filename = \"L-\" + os.path.basename(FA_files[i])\n",
    "    sitk.WriteImage(FA_img, os.path.join(\"OUTPUT/CONTROL/LESIONS/FA-LESIONS\", FA_filename))\n",
    "\n",
    "    # MD\n",
    "    MD_filename = \"L-\" + os.path.basename(MD_files[i])\n",
    "    sitk.WriteImage(MD_img, os.path.join(\"OUTPUT/CONTROL/LESIONS/MD-LESIONS\", MD_filename))\n",
    "    \n",
    "    # FICVF\n",
    "    FICVF_filename = \"L-\" + os.path.basename(FICVF_files[i])\n",
    "    sitk.WriteImage(FICVF_img, os.path.join(\"OUTPUT/CONTROL/LESIONS/FICVF-LESIONS\", FICVF_filename))\n",
    "\n",
    "    # ODI\n",
    "    ODI_filename = \"L-\" + os.path.basename(ODI_files[i])\n",
    "    sitk.WriteImage(ODI_img, os.path.join(\"OUTPUT/CONTROL/LESIONS/ODI-LESIONS\", ODI_filename))\n",
    "    "
   ],
   "metadata": {
    "collapsed": false,
    "pycharm": {
     "name": "#%%\n",
     "is_executing": false
    }
   }
  }
 ],
 "metadata": {
  "language_info": {
   "codemirror_mode": {
    "name": "ipython",
    "version": 2
   },
   "file_extension": ".py",
   "mimetype": "text/x-python",
   "name": "python",
   "nbconvert_exporter": "python",
   "pygments_lexer": "ipython2",
   "version": "2.7.6"
  },
  "kernelspec": {
   "name": "python3",
   "language": "python",
   "display_name": "Python 3"
  },
  "pycharm": {
   "stem_cell": {
    "cell_type": "raw",
    "source": [],
    "metadata": {
     "collapsed": false
    }
   }
  }
 },
 "nbformat": 4,
 "nbformat_minor": 0
}