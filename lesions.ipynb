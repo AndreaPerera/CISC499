{
 "cells": [
  {
   "cell_type": "code",
   "execution_count": 1,
   "metadata": {
    "collapsed": true,
    "pycharm": {
     "is_executing": false
    }
   },
   "outputs": [
    {
     "name": "stdout",
     "text": [
      "0.00045235184\n"
     ],
     "output_type": "stream"
    },
    {
     "name": "stderr",
     "text": [
      "/Users/andreaperera/.local/share/virtualenvs/CISC499-Q3_yjSBR/lib/python3.6/site-packages/sklearn/utils/deprecation.py:144: FutureWarning: The sklearn.linear_model.base module is  deprecated in version 0.22 and will be removed in version 0.24. The corresponding classes / functions should instead be imported from sklearn.linear_model. Anything that cannot be imported from sklearn.linear_model is now part of the private API.\n  warnings.warn(message, FutureWarning)\n"
     ],
     "output_type": "stream"
    }
   ],
   "source": [
    "%matplotlib inline\n",
    "import SimpleITK as sitk\n",
    "import numpy as np\n",
    "import os\n",
    "from nltools.data import Brain_Data\n",
    "import matplotlib.pyplot as plt\n",
    "\n",
    "# ignore\n",
    "# example = Brain_Data('DISCRETE/GM/smwc1D002_T1.nii')\n",
    "# mean = example.mean()\n",
    "# sd = example.std()\n",
    "# zmap = example.standardize(0, 'zscore')\n",
    "# \n",
    "# # example_n = example.to_nifti()\n",
    "# example.write('zmap-example.nii')\n",
    "# print(mean)\n",
    "\n",
    "# multiply lesions on discrete template\n",
    "d_lesion = sitk.ReadImage('DISCRETE/Lesion-Masks/wD002_Lesion.nii')\n",
    "d_template = sitk.ReadImage('DISCRETE/GM/smwc1D002_T1.nii')\n",
    "\n",
    "# array x mask = mask region in numpy array\n",
    "# need to go back to image without losing image properties\n",
    "\n",
    "n_d_lesion = sitk.GetArrayFromImage(d_lesion)\n",
    "n_d_template = sitk.GetArrayFromImage(d_template)\n",
    "\n",
    "n_d_mask_region = n_d_lesion * n_d_template\n",
    "avg_n_d_mask_region = np.mean(n_d_mask_region)\n",
    "print(avg_n_d_mask_region)\n",
    "\n",
    "mask_region = sitk.GetImageFromArray(n_d_mask_region)\n",
    "mask_region.CopyInformation(d_template)\n",
    "\n",
    "OUTPUT_DIR = \"OUTPUT\"\n",
    "sitk.WriteImage(mask_region, os.path.join(OUTPUT_DIR, 'SAMPLEOUTPUT.nii'))"
   ]
  },
  {
   "cell_type": "code",
   "execution_count": 18,
   "outputs": [
    {
     "name": "stdout",
     "text": [
      "0.00039820536\n"
     ],
     "output_type": "stream"
    }
   ],
   "source": [
    "# multiply lesions on discrete template\n",
    "lesion = sitk.ReadImage('DISCRETE/Lesion-Masks/wD002_Lesion.nii')\n",
    "template = sitk.ReadImage('CONTROL/GM/smwc1C002_T1.nii')\n",
    "\n",
    "# array x mask = mask region in numpy array\n",
    "# need to go back to image without losing image properties\n",
    "\n",
    "n_lesion = sitk.GetArrayFromImage(lesion)\n",
    "n_template = sitk.GetArrayFromImage(template)\n",
    "\n",
    "n_mask_region = n_lesion * n_template\n",
    "avg_n_mask_region = np.mean(n_mask_region)\n",
    "print(avg_n_mask_region)\n",
    "\n",
    "mask_region = sitk.GetImageFromArray(n_mask_region)\n",
    "mask_region.CopyInformation(template)\n",
    "\n",
    "\n"
   ],
   "metadata": {
    "collapsed": false,
    "pycharm": {
     "name": "#%% CONTROL\n",
     "is_executing": false
    }
   }
  }
 ],
 "metadata": {
  "language_info": {
   "codemirror_mode": {
    "name": "ipython",
    "version": 2
   },
   "file_extension": ".py",
   "mimetype": "text/x-python",
   "name": "python",
   "nbconvert_exporter": "python",
   "pygments_lexer": "ipython2",
   "version": "2.7.6"
  },
  "kernelspec": {
   "name": "python3",
   "language": "python",
   "display_name": "Python 3"
  },
  "pycharm": {
   "stem_cell": {
    "cell_type": "raw",
    "source": [],
    "metadata": {
     "collapsed": false
    }
   }
  }
 },
 "nbformat": 4,
 "nbformat_minor": 0
}