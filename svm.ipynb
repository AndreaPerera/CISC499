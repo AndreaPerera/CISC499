{
 "cells": [
  {
   "cell_type": "markdown",
   "metadata": {
    "collapsed": true,
    "pycharm": {
     "name": "#%% md\n"
    }
   },
   "source": [
    "## Create SVM Classifier"
   ]
  },
  {
   "cell_type": "code",
   "execution_count": 11,
   "outputs": [],
   "source": [
    "import re\n",
    "from sklearn.metrics import accuracy_score\n",
    "%matplotlib inline\n",
    "import pandas as pd\n",
    "import numpy as np\n",
    "import glob\n",
    "import os\n",
    "from sklearn.svm import SVC\n",
    "from sklearn import metrics"
   ],
   "metadata": {
    "collapsed": false,
    "pycharm": {
     "name": "#%%\n",
     "is_executing": false
    }
   }
  },
  {
   "cell_type": "markdown",
   "source": [
    "Create X_train, y_train, X_test, y_test"
   ],
   "metadata": {
    "collapsed": false,
    "pycharm": {
     "name": "#%% md\n",
     "is_executing": false
    }
   }
  },
  {
   "cell_type": "code",
   "execution_count": 12,
   "outputs": [
    {
     "name": "stdout",
     "text": [
      "X_train, X_test, y_train, y_test created\n"
     ],
     "output_type": "stream"
    }
   ],
   "source": [
    "train_data = pd.read_csv('train-data.csv', index_col=[0])\n",
    "test_data = pd.read_csv('test-data.csv', index_col=[0])\n",
    "\n",
    "train_data.head()\n",
    "\n",
    "y_train = train_data.target\n",
    "y_test = test_data.target\n",
    "\n",
    "X_train = train_data.drop(['target', 'target_name'], axis='columns')\n",
    "X_test = test_data.drop(['target', 'target_name'], axis='columns')\n",
    "print(\"X_train, X_test, y_train, y_test created\")"
   ],
   "metadata": {
    "collapsed": false,
    "pycharm": {
     "name": "#%%\n",
     "is_executing": false
    }
   }
  },
  {
   "cell_type": "markdown",
   "source": [],
   "metadata": {
    "collapsed": false,
    "pycharm": {
     "name": "#%% md\n",
     "is_executing": false
    }
   }
  },
  {
   "cell_type": "code",
   "execution_count": 13,
   "outputs": [],
   "source": [
    "# from sklearn.model_selection import GridSearchCV\n",
    "# Cs = np.logspace(-6, -1, 10)\n",
    "# svc = SVC(kernel='rbf')\n",
    "# clf = GridSearchCV(svc, param_grid=dict(C=Cs), n_jobs=-1)\n",
    "# clf.fit(X_train, y_train)\n",
    "# print(clf.best_score_)\n",
    "# print(clf.best_estimator_.C)\n",
    "# def svc_param_selection(X, y, nfolds):\n",
    "#     Cs = [0.001, 0.01, 0.1, 1, 10]\n",
    "#     gammas = [0.001, 0.01, 0.1, 1]\n",
    "#     param_grid = {'C': Cs, 'gamma' : gammas}\n",
    "#     grid_search = GridSearchCV(SVC(kernel='rbf'), param_grid, cv=nfolds)\n",
    "#     grid_search.fit(X, y)\n",
    "#     grid_search.best_params_\n",
    "#     return grid_search.best_params_\n"
   ],
   "metadata": {
    "collapsed": false,
    "pycharm": {
     "name": "#%%\n",
     "is_executing": false
    }
   }
  },
  {
   "cell_type": "code",
   "execution_count": 14,
   "outputs": [],
   "source": [
    "#svc_param_selection(X_train, y_train, 5)"
   ],
   "metadata": {
    "collapsed": false,
    "pycharm": {
     "name": "#%%\n",
     "is_executing": false
    }
   }
  },
  {
   "cell_type": "markdown",
   "source": [
    "Probabilistic Output Model"
   ],
   "metadata": {
    "collapsed": false,
    "pycharm": {
     "name": "#%% md\n"
    }
   }
  },
  {
   "cell_type": "code",
   "execution_count": 15,
   "outputs": [
    {
     "name": "stdout",
     "text": [
      "Starting to train...\n",
      "Training done\n"
     ],
     "output_type": "stream"
    }
   ],
   "source": [
    "# TRAINING\n",
    "# model w/ RBF kernel, prob output\n",
    "p_clf = SVC(kernel='rbf', gamma=0.1, C=0.0077, probability=True)\n",
    "print(\"Starting to train...\")\n",
    "p_clf.fit(X_train, y_train)\n",
    "print(\"Training done\")"
   ],
   "metadata": {
    "collapsed": false,
    "pycharm": {
     "name": "#%%\n",
     "is_executing": false
    }
   }
  },
  {
   "cell_type": "code",
   "execution_count": 16,
   "outputs": [
    {
     "name": "stdout",
     "text": [
      "Starting to test...\n",
      "Testing completed\nTesting Accuracy: 0.8635361993669618\n"
     ],
     "output_type": "stream"
    }
   ],
   "source": [
    "# TESTING\n",
    "print(\"Starting to test...\")\n",
    "# binary output\n",
    "y_pred_binary = p_clf.predict(X_test)\n",
    "# probabilistic output\n",
    "y_pred = p_clf.predict_proba(X_test)\n",
    "print(\"Testing completed\")\n",
    "print(\"Testing Accuracy:\", accuracy_score(y_test, y_pred_binary))"
   ],
   "metadata": {
    "collapsed": false,
    "pycharm": {
     "name": "#%%\n",
     "is_executing": false
    }
   }
  },
  {
   "cell_type": "code",
   "execution_count": 17,
   "outputs": [
    {
     "name": "stdout",
     "text": [
      "Validation Accuracy: 0.79 (+/- 0.16)\n"
     ],
     "output_type": "stream"
    }
   ],
   "source": [
    "# VALIDATION\n",
    "# use stratified k-fold as validation method\n",
    "from sklearn.model_selection import cross_val_score\n",
    "from sklearn.model_selection import StratifiedKFold\n",
    "skf = StratifiedKFold(n_splits=5)\n",
    "scores = cross_val_score(p_clf, X_train, y_train, cv=skf)\n",
    "print(\"Validation Accuracy: %0.2f (+/- %0.2f)\" % (scores.mean(), scores.std() * 2))"
   ],
   "metadata": {
    "collapsed": false,
    "pycharm": {
     "name": "#%%\n",
     "is_executing": false
    }
   }
  },
  {
   "cell_type": "code",
   "execution_count": 21,
   "outputs": [
    {
     "name": "stdout",
     "text": [
      "[[13697   756]\n [ 2650  7856]]\ntrue negative:  13697\nfalse positive:  756\nfalse negative:  2650\ntrue positive:  7856\nSpecificity (true neg rate):  0.9476925205839618\nSensitivity: (true pos rate) 0.7477631829430802\n              precision    recall  f1-score   support\n\n     CONTROL       0.84      0.95      0.89     14453\n    DISCRETE       0.91      0.75      0.82     10506\n\n    accuracy                           0.86     24959\n   macro avg       0.88      0.85      0.86     24959\nweighted avg       0.87      0.86      0.86     24959\n\n0.8218432890469715\n          pred:pos  pred:neg\ntrue:pos     13697       756\ntrue:neg      2650      7856\n"
     ],
     "output_type": "stream"
    }
   ],
   "source": [
    "\n",
    "from sklearn.metrics import confusion_matrix\n",
    "from sklearn.metrics import classification_report\n",
    "# in this order to make sure false positive and false negative are correct\n",
    "conf_matrix = confusion_matrix(y_test, y_pred_binary, labels=[0,1])\n",
    "print(conf_matrix)\n",
    "tn, fp, fn, tp = conf_matrix.ravel()\n",
    "print(\"true negative: \", tn)\n",
    "print(\"false positive: \", fp)\n",
    "print(\"false negative: \", fn)\n",
    "print(\"true positive: \", tp)\n",
    "print(\"Specificity (true neg rate): \", tn / (tn + fp))\n",
    "print(\"Sensitivity: (true pos rate)\", tp / (tp + fn))\n",
    "print(classification_report(y_test, y_pred_binary, target_names=['CONTROL', 'DISCRETE']))\n",
    "\n",
    "cmtx = pd.DataFrame(\n",
    "    confusion_matrix(y_test, y_pred_binary, labels=[0, 1]), \n",
    "    index=['true:pos', 'true:neg'], \n",
    "    columns=['pred:pos', 'pred:neg']\n",
    ")\n",
    "print(cmtx)"
   ],
   "metadata": {
    "collapsed": false,
    "pycharm": {
     "name": "#%%\n",
     "is_executing": false
    }
   }
  },
  {
   "cell_type": "code",
   "execution_count": 19,
   "outputs": [],
   "source": [
    "# import matplotlib.pyplot as plt\n",
    "# auc = metrics.roc_auc_score(y_test, y_pred)\n",
    "# print('AUC: %.3f' % auc)\n",
    "# \n",
    "# fpr, tpr, _ = metrics.roc_curve(y_test,  y_pred)\n",
    "# auc = metrics.roc_auc_score(y_test, y_pred)\n",
    "# plt.plot(fpr,tpr,label=\"ROC curve, auc=\"+str(auc)[0:5])\n",
    "# plt.legend(loc=4)\n",
    "# plt.plot([0, 1], [0, 1], 'k--')\n",
    "# plt.xlabel('False Positive Rate')\n",
    "# plt.ylabel('True Positive Rate')\n",
    "# plt.title('Receiver Operating Characteristic')\n",
    "# plt.savefig('ROC_curve.png')\n"
   ],
   "metadata": {
    "collapsed": false,
    "pycharm": {
     "name": "#%%\n",
     "is_executing": false
    }
   }
  },
  {
   "cell_type": "code",
   "execution_count": 20,
   "outputs": [
    {
     "data": {
      "text/plain": "['p-rbf-clf.joblib']"
     },
     "metadata": {},
     "output_type": "execute_result",
     "execution_count": 20
    }
   ],
   "source": [
    "# save probabilistic model for use in testing.ipynb\n",
    "import joblib\n",
    "joblib.dump(p_clf, 'p-rbf-clf.joblib')"
   ],
   "metadata": {
    "collapsed": false,
    "pycharm": {
     "name": "#%%\n",
     "is_executing": false
    }
   }
  },
  {
   "cell_type": "code",
   "execution_count": 20,
   "outputs": [],
   "source": [],
   "metadata": {
    "collapsed": false,
    "pycharm": {
     "name": "#%%\n",
     "is_executing": false
    }
   }
  }
 ],
 "metadata": {
  "kernelspec": {
   "display_name": "Python 3",
   "language": "python",
   "name": "python3"
  },
  "language_info": {
   "codemirror_mode": {
    "name": "ipython",
    "version": 2
   },
   "file_extension": ".py",
   "mimetype": "text/x-python",
   "name": "python",
   "nbconvert_exporter": "python",
   "pygments_lexer": "ipython2",
   "version": "2.7.6"
  },
  "pycharm": {
   "stem_cell": {
    "cell_type": "raw",
    "source": [],
    "metadata": {
     "collapsed": false
    }
   }
  }
 },
 "nbformat": 4,
 "nbformat_minor": 0
}