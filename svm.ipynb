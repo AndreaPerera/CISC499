{
 "cells": [
  {
   "cell_type": "markdown",
   "metadata": {
    "collapsed": true,
    "pycharm": {
     "name": "#%% md\n"
    }
   },
   "source": [
    "## Create SVM Classifier\n",
    "By extracting features from the z-maps, we will train the SVM to classify\n",
    "between normal and abnormal voxels."
   ]
  },
  {
   "cell_type": "code",
   "execution_count": 2,
   "outputs": [],
   "source": [
    "import re\n",
    "from sklearn.metrics import accuracy_score\n",
    "%matplotlib inline\n",
    "import pandas as pd\n",
    "import numpy as np\n",
    "import glob\n",
    "import os\n",
    "from sklearn.svm import SVC\n",
    "from sklearn import metrics"
   ],
   "metadata": {
    "collapsed": false,
    "pycharm": {
     "name": "#%%\n"
    }
   }
  },
  {
   "cell_type": "markdown",
   "source": [
    "Create X_train, y_train, X_test, y_test"
   ],
   "metadata": {
    "collapsed": false,
    "pycharm": {
     "name": "#%% md\n",
     "is_executing": false
    }
   }
  },
  {
   "cell_type": "code",
   "execution_count": 26,
   "outputs": [
    {
     "name": "stdout",
     "output_type": "stream",
     "text": [
      "Creating X_train, X_test, y_train, y_test...\n",
      "X_train, X_test, y_train, y_test created\n"
     ]
    }
   ],
   "source": [
    "# manually separate X_train, y_train, X_test and y_test to make sure\n",
    "# that entire patients are separated into train and test and not just\n",
    "# random voxels\n",
    "\n",
    "train_data = pd.read_csv('train-data.csv', index_col=[0])\n",
    "test_data = pd.read_csv('test-data.csv', index_col=[0])\n",
    "\n",
    "print(\"Creating X_train, X_test, y_train, y_test...\")\n",
    "y_train = train_data.target\n",
    "y_test = test_data.target\n",
    "\n",
    "# remove labels from x_train and x_test\n",
    "X_train = train_data.drop(['target', 'target_name'], axis='columns')\n",
    "X_test = test_data.drop(['target', 'target_name'], axis='columns')\n",
    "print(\"X_train, X_test, y_train, y_test created\")"
   ],
   "metadata": {
    "collapsed": false,
    "pycharm": {
     "name": "#%%\n"
    }
   }
  },
  {
   "cell_type": "code",
   "execution_count": 4,
   "outputs": [],
   "source": [
    "## code to generate best parameters for model using GridSearch\n",
    "# from sklearn.model_selection import GridSearchCV\n",
    "# Cs = np.logspace(-6, -1, 10)\n",
    "# svc = SVC(kernel='rbf')\n",
    "# clf = GridSearchCV(svc, param_grid=dict(C=Cs), n_jobs=-1)\n",
    "# clf.fit(X_train, y_train)\n",
    "# print(clf.best_score_)\n",
    "# print(clf.best_estimator_.C)\n",
    "# def svc_param_selection(X, y, nfolds):\n",
    "#     Cs = [0.001, 0.01, 0.1, 1, 10]\n",
    "#     gammas = [0.001, 0.01, 0.1, 1]\n",
    "#     param_grid = {'C': Cs, 'gamma' : gammas}\n",
    "#     grid_search = GridSearchCV(SVC(kernel='rbf'), param_grid, cv=nfolds)\n",
    "#     grid_search.fit(X, y)\n",
    "#     grid_search.best_params_\n",
    "#     return grid_search.best_params_\n",
    "#svc_param_selection(X_train, y_train, 5)"
   ],
   "metadata": {
    "collapsed": false,
    "pycharm": {
     "name": "#%%\n"
    }
   }
  },
  {
   "cell_type": "markdown",
   "source": [
    "Training"
   ],
   "metadata": {
    "collapsed": false,
    "pycharm": {
     "name": "#%% md\n"
    }
   }
  },
  {
   "cell_type": "code",
   "execution_count": 4,
   "outputs": [
    {
     "name": "stdout",
     "output_type": "stream",
     "text": [
      "Starting to train...\n",
      "Training done\n"
     ]
    }
   ],
   "source": [
    "# Model w/ RBF kernel, set probabilistic output to true\n",
    "p_clf = SVC(kernel='rbf', gamma=0.1, C=0.0077, probability=True)\n",
    "print(\"Starting to train...\")\n",
    "p_clf.fit(X_train, y_train)\n",
    "print(\"Training complete.\")"
   ],
   "metadata": {
    "collapsed": false,
    "pycharm": {
     "name": "#%%\n"
    }
   }
  },
  {
   "cell_type": "markdown",
   "source": [
    "Validation"
   ],
   "metadata": {
    "collapsed": false,
    "pycharm": {
     "name": "#%% md\n"
    }
   }
  },
  {
   "cell_type": "code",
   "execution_count": 6,
   "outputs": [
    {
     "name": "stdout",
     "output_type": "stream",
     "text": [
      "Starting validation process...\n",
      "Validation completed.\n",
      "Validation Accuracy: 0.79 (+/- 0.16)\n"
     ]
    }
   ],
   "source": [
    "# use stratified 5-fold cv as validation method\n",
    "from sklearn.model_selection import cross_val_score\n",
    "from sklearn.model_selection import StratifiedKFold\n",
    "skf = StratifiedKFold(n_splits=5)\n",
    "print(\"Starting validation process...\")\n",
    "scores = cross_val_score(p_clf, X_train, y_train, cv=skf)\n",
    "print(\"Validation complete.\")\n",
    "print(\"Validation Accuracy: %0.2f (+/- %0.2f)\" % (scores.mean(), scores.std() * 2))"
   ],
   "metadata": {
    "collapsed": false,
    "pycharm": {
     "name": "#%%\n"
    }
   }
  },
  {
   "cell_type": "markdown",
   "source": [
    "Testing"
   ],
   "metadata": {
    "collapsed": false,
    "pycharm": {
     "name": "#%% md\n",
     "is_executing": false
    }
   }
  },
  {
   "cell_type": "code",
   "execution_count": 7,
   "outputs": [
    {
     "name": "stdout",
     "output_type": "stream",
     "text": [
      "Starting to test...\n",
      "Testing completed\n",
      "Testing Accuracy: 0.8635361993669618\n"
     ]
    }
   ],
   "source": [
    "# TESTING\n",
    "print(\"Starting to test...\")\n",
    "# binary output\n",
    "y_pred_binary = p_clf.predict(X_test)\n",
    "# probabilistic output\n",
    "y_pred = p_clf.predict_proba(X_test)\n",
    "print(\"Testing complete.\")\n",
    "print(\"Testing Accuracy:\", accuracy_score(y_test, y_pred_binary))"
   ],
   "metadata": {
    "collapsed": false,
    "pycharm": {
     "name": "#%%\n"
    }
   }
  },
  {
   "cell_type": "code",
   "execution_count": 21,
   "outputs": [
    {
     "name": "stdout",
     "output_type": "stream",
     "text": [
      "True negative:  13697\n",
      "False positive:  756\n",
      "False negative:  2650\n",
      "True positive:  7856\n",
      "Specificity (true neg rate):  0.9476925205839618\n",
      "Sensitivity: (true pos rate) 0.7477631829430802\n",
      "--------------------------------------------------------\n",
      "CLASSIFICATION REPORT\n",
      "              precision    recall  f1-score   support\n",
      "\n",
      "     CONTROL       0.84      0.95      0.89     14453\n",
      "    DISCRETE       0.91      0.75      0.82     10506\n",
      "\n",
      "    accuracy                           0.86     24959\n",
      "   macro avg       0.88      0.85      0.86     24959\n",
      "weighted avg       0.87      0.86      0.86     24959\n",
      "\n",
      "--------------------------------------------------------\n",
      "CONFUSION MATRIX\n",
      "       0     1\n",
      "0  13697   756\n",
      "1   2650  7856\n"
     ]
    }
   ],
   "source": [
    "# Calculate confusion matrix and generate classification report\n",
    "from sklearn.metrics import confusion_matrix\n",
    "from sklearn.metrics import classification_report\n",
    "\n",
    "conf_matrix = confusion_matrix(y_test, y_pred_binary, labels=[0,1])\n",
    "tn, fp, fn, tp = conf_matrix.ravel()\n",
    "print(\"True negative: \", tn)\n",
    "print(\"False positive: \", fp)\n",
    "print(\"False negative: \", fn)\n",
    "print(\"True positive: \", tp)\n",
    "print(\"Specificity (true neg rate): \", tn / (tn + fp))\n",
    "print(\"Sensitivity: (true pos rate)\", tp / (tp + fn))\n",
    "print(\"--------------------------------------------------------\")\n",
    "\n",
    "print(\"CLASSIFICATION REPORT\")\n",
    "print(classification_report(y_test, y_pred_binary, target_names=['CONTROL', 'DISCRETE']))\n",
    "print(\"--------------------------------------------------------\")\n",
    "cmtx = pd.DataFrame(\n",
    "    confusion_matrix(y_test, y_pred_binary, labels=[0, 1]),\n",
    ")\n",
    "print(\"CONFUSION MATRIX\")\n",
    "print(cmtx)"
   ],
   "metadata": {
    "collapsed": false,
    "pycharm": {
     "name": "#%%\n"
    }
   }
  },
  {
   "cell_type": "code",
   "execution_count": 9,
   "outputs": [
    {
     "name": "stdout",
     "output_type": "stream",
     "text": [
      "AUC: 0.896\n"
     ]
    },
    {
     "data": {
      "text/plain": "<Figure size 432x288 with 1 Axes>",
      "image/png": "[encoded data removed]"
     },
     "metadata": {
      "needs_background": "light"
     },
     "output_type": "display_data"
    }
   ],
   "source": [
    "# ROC Curve for probabilistic output\n",
    "import matplotlib.pyplot as plt\n",
    "auc = metrics.roc_auc_score(y_test, y_pred[:,1])\n",
    "print('AUC: %.3f' % auc)\n",
    "fpr, tpr, _ = metrics.roc_curve(y_test,  y_pred[:,1])\n",
    "auc = metrics.roc_auc_score(y_test, y_pred[:,1])\n",
    "plt.plot(fpr,tpr,label=\"ROC curve, auc=\"+str(auc)[0:5])\n",
    "plt.legend(loc=4)\n",
    "plt.plot([0, 1], [0, 1], 'k--')\n",
    "plt.xlabel('False Positive Rate')\n",
    "plt.ylabel('True Positive Rate')\n",
    "plt.title('Receiver Operating Characteristic (Probabilistic Output)')\n",
    "plt.savefig('ROC_curve_prob.png')"
   ],
   "metadata": {
    "collapsed": false,
    "pycharm": {
     "name": "#%%\n"
    }
   }
  },
  {
   "cell_type": "code",
   "execution_count": 10,
   "outputs": [
    {
     "name": "stdout",
     "output_type": "stream",
     "text": [
      "AUC: 0.848\n"
     ]
    },
    {
     "data": {
      "text/plain": "<Figure size 432x288 with 1 Axes>",
      "image/png": "[encoded data removed]"
     },
     "metadata": {
      "needs_background": "light"
     },
     "output_type": "display_data"
    }
   ],
   "source": [
    "# ROC Curve for binary output\n",
    "auc = metrics.roc_auc_score(y_test, y_pred_binary)\n",
    "print('AUC: %.3f' % auc)\n",
    "fpr, tpr, _ = metrics.roc_curve(y_test,  y_pred_binary)\n",
    "auc = metrics.roc_auc_score(y_test, y_pred_binary)\n",
    "plt.plot(fpr,tpr,label=\"ROC curve, auc=\"+str(auc)[0:5])\n",
    "plt.legend(loc=4)\n",
    "plt.plot([0, 1], [0, 1], 'k--')\n",
    "plt.xlabel('False Positive Rate')\n",
    "plt.ylabel('True Positive Rate')\n",
    "plt.title('Receiver Operating Characteristic (Binary Output)')\n",
    "plt.savefig('ROC_curve_binary.png')"
   ],
   "metadata": {
    "collapsed": false,
    "pycharm": {
     "name": "#%%\n"
    }
   }
  },
  {
   "cell_type": "code",
   "execution_count": 11,
   "outputs": [
    {
     "data": {
      "text/plain": "['p-rbf-clf.joblib']"
     },
     "execution_count": 11,
     "metadata": {},
     "output_type": "execute_result"
    }
   ],
   "source": [
    "# save model for use in testing.ipynb so we don't have to keep retraining and waste time\n",
    "import joblib\n",
    "joblib.dump(p_clf, 'p-rbf-clf.joblib')\n",
    "\n",
    "\n"
   ],
   "metadata": {
    "collapsed": false,
    "pycharm": {
     "name": "#%%\n"
    }
   }
  }
 ],
 "metadata": {
  "kernelspec": {
   "display_name": "Python 3",
   "language": "python",
   "name": "python3"
  },
  "language_info": {
   "codemirror_mode": {
    "name": "ipython",
    "version": 2
   },
   "file_extension": ".py",
   "mimetype": "text/x-python",
   "name": "python",
   "nbconvert_exporter": "python",
   "pygments_lexer": "ipython2",
   "version": "2.7.6"
  }
 },
 "nbformat": 4,
 "nbformat_minor": 0
}