{
 "cells": [
  {
   "cell_type": "markdown",
   "metadata": {
    "collapsed": true,
    "pycharm": {
     "is_executing": false,
     "name": "#%% md\n"
    }
   },
   "source": [
    "Z-SCORING\n",
    "- Find mean & std dev over all patients in each modality\n",
    "- Find z-score of each voxel relative to group mean/std dev\n",
    "\n",
    "\n",
    "GM"
   ]
  },
  {
   "cell_type": "code",
   "execution_count": 7,
   "outputs": [
    {
     "name": "stdout",
     "text": [
      "(121, 145, 121)\n",
      "4\n"
     ],
     "output_type": "stream"
    },
    {
     "name": "stderr",
     "text": [
      "/Users/andreaperera/.local/share/virtualenvs/CISC499-Q3_yjSBR/lib/python3.6/site-packages/ipykernel_launcher.py:52: RuntimeWarning: divide by zero encountered in true_divide\n/Users/andreaperera/.local/share/virtualenvs/CISC499-Q3_yjSBR/lib/python3.6/site-packages/ipykernel_launcher.py:52: RuntimeWarning: invalid value encountered in true_divide\n",
      "/Users/andreaperera/.local/share/virtualenvs/CISC499-Q3_yjSBR/lib/python3.6/site-packages/ipykernel_launcher.py:61: RuntimeWarning: divide by zero encountered in true_divide\n/Users/andreaperera/.local/share/virtualenvs/CISC499-Q3_yjSBR/lib/python3.6/site-packages/ipykernel_launcher.py:61: RuntimeWarning: invalid value encountered in true_divide\n"
     ],
     "output_type": "stream"
    }
   ],
   "source": [
    "%matplotlib inline\n",
    "import SimpleITK as sitk\n",
    "import numpy as np\n",
    "import glob\n",
    "import os\n",
    "\n",
    "# Process done for both control and discrete patients\n",
    "# Discrete z maps calculated with Control's mean and std dev\n",
    "C_data = []\n",
    "C_files = glob.glob('CONTROL/GM/*.nii')\n",
    "for i in range(len(C_files)):\n",
    "    C_data.append(sitk.ReadImage(C_files[i]))   \n",
    "D_data = []\n",
    "D_files = glob.glob('DISCRETE/GM/*.nii')\n",
    "for i in range(len(D_files)):\n",
    "    D_data.append(sitk.ReadImage(D_files[i]))\n",
    "\n",
    "# check size of mr image\n",
    "print(C_data[0].GetSize())\n",
    "\n",
    "# get arrays from images\n",
    "C_data_list = []\n",
    "for i in range(len(C_data)):\n",
    "    C_data_list.append(sitk.GetArrayFromImage(C_data[i]))  \n",
    "D_data_list = []\n",
    "for i in range(len(D_data)):\n",
    "    D_data_list.append(sitk.GetArrayFromImage(D_data[i]))  \n",
    " \n",
    "C_data_arr = np.array(C_data_list) \n",
    "D_data_arr = np.array(D_data_list)\n",
    "\n",
    "print(C_data_arr.ndim) # idk how but this is a 4D array\n",
    "\n",
    "# only using control mean and standard deviation for z-score calculations\n",
    "mean = np.mean(C_data_arr,axis=0)\n",
    "std = np.std(C_data_arr,axis=0)\n",
    "\n",
    "# for visualization purposes, not used in analysis\n",
    "C_mean_img = sitk.GetImageFromArray(mean)\n",
    "C_mean_img.CopyInformation(C_data[0])\n",
    "C_std_img = sitk.GetImageFromArray(std)\n",
    "C_std_img.CopyInformation(C_data[0])\n",
    "\n",
    "OUTPUT_DIR = \"OUTPUT/CONTROL/GM-OUTPUT\"\n",
    "sitk.WriteImage(C_mean_img, os.path.join(OUTPUT_DIR, 'GM-MEAN-OUTPUT.nii'))\n",
    "sitk.WriteImage(C_std_img, os.path.join(OUTPUT_DIR, 'GM-STD-OUTPUT.nii'))\n",
    "\n",
    "# get z-score voxelwise for all GM controls\n",
    "# data_arr[i] gives 3D array representing an MR image\n",
    "OUTPUT_DIR = \"OUTPUT/CONTROL/GM-OUTPUT/GM-ZMAPS\"\n",
    "for i in range(len(C_files)):\n",
    "    z = (C_data_arr[i]-mean)/std\n",
    "    z_img = sitk.GetImageFromArray(z)\n",
    "    z_img.CopyInformation(C_mean_img)\n",
    "    filename = \"Z-\" + os.path.basename(C_files[i])   # make sure zmap file name corresponds w patient number  \n",
    "    sitk.WriteImage(z_img, os.path.join(OUTPUT_DIR, filename))\n",
    "    \n",
    "# get z-score voxelwise for all GM patients    \n",
    "OUTPUT_DIR = \"OUTPUT/DISCRETE/GM-OUTPUT/GM-ZMAPS\"    \n",
    "for i in range(len(D_files)):\n",
    "    z = (D_data_arr[i]-mean)/std\n",
    "    z_img = sitk.GetImageFromArray(z)\n",
    "    z_img.CopyInformation(D_data[0])\n",
    "    filename = \"Z-\" + os.path.basename(D_files[i])   # make sure zmap file name corresponds w patient number  \n",
    "    sitk.WriteImage(z_img, os.path.join(OUTPUT_DIR, filename))"
   ],
   "metadata": {
    "collapsed": false,
    "pycharm": {
     "name": "#%%\n",
     "is_executing": false
    }
   }
  },
  {
   "cell_type": "markdown",
   "source": [
    "FA"
   ],
   "metadata": {
    "collapsed": false,
    "pycharm": {
     "name": "#%% md\n",
     "is_executing": false
    }
   }
  },
  {
   "cell_type": "code",
   "execution_count": 8,
   "outputs": [
    {
     "name": "stderr",
     "text": [
      "/Users/andreaperera/.local/share/virtualenvs/CISC499-Q3_yjSBR/lib/python3.6/site-packages/ipykernel_launcher.py:36: RuntimeWarning: invalid value encountered in true_divide\n",
      "/Users/andreaperera/.local/share/virtualenvs/CISC499-Q3_yjSBR/lib/python3.6/site-packages/ipykernel_launcher.py:45: RuntimeWarning: invalid value encountered in true_divide\n/Users/andreaperera/.local/share/virtualenvs/CISC499-Q3_yjSBR/lib/python3.6/site-packages/ipykernel_launcher.py:45: RuntimeWarning: divide by zero encountered in true_divide\n"
     ],
     "output_type": "stream"
    }
   ],
   "source": [
    "C_data = []\n",
    "C_files = glob.glob('CONTROL/FA/*.nii')\n",
    "for i in range(len(C_files)):\n",
    "    C_data.append(sitk.ReadImage(C_files[i]))    \n",
    "D_data = []\n",
    "D_files = glob.glob('DISCRETE/FA/*.nii')\n",
    "for i in range(len(D_files)):\n",
    "    D_data.append(sitk.ReadImage(D_files[i]))\n",
    "\n",
    "# get arrays from images\n",
    "C_data_list = []\n",
    "for i in range(len(C_data)):\n",
    "    C_data_list.append(sitk.GetArrayFromImage(C_data[i])) \n",
    "D_data_list = []\n",
    "for i in range(len(D_data)):\n",
    "    D_data_list.append(sitk.GetArrayFromImage(D_data[i]))  \n",
    "\n",
    "C_data_arr = np.array(C_data_list) \n",
    "D_data_arr = np.array(D_data_list) \n",
    "\n",
    "mean = np.mean(C_data_arr,axis=0)\n",
    "std = np.std(C_data_arr,axis=0)\n",
    "\n",
    "C_mean_img = sitk.GetImageFromArray(mean)\n",
    "C_mean_img.CopyInformation(C_data[0])\n",
    "C_std_img = sitk.GetImageFromArray(std)\n",
    "C_std_img.CopyInformation(C_data[0])\n",
    "\n",
    "OUTPUT_DIR = \"OUTPUT/CONTROL/FA-OUTPUT\"\n",
    "sitk.WriteImage(C_mean_img, os.path.join(OUTPUT_DIR, 'FA-MEAN-OUTPUT.nii'))\n",
    "sitk.WriteImage(C_std_img, os.path.join(OUTPUT_DIR, 'FA-STD-OUTPUT.nii'))\n",
    "\n",
    "# get z-score voxelwise for all FA controls\n",
    "OUTPUT_DIR = \"OUTPUT/CONTROL/FA-OUTPUT/FA-ZMAPS\"\n",
    "for i in range(len(C_files)):\n",
    "    z = (C_data_arr[i]-mean)/std\n",
    "    z_img = sitk.GetImageFromArray(z)\n",
    "    z_img.CopyInformation(C_mean_img)\n",
    "    filename = \"Z-\" + os.path.basename(C_files[i])   # make sure zmap file name corresponds w patient number  \n",
    "    sitk.WriteImage(z_img, os.path.join(OUTPUT_DIR, filename))\n",
    "    \n",
    "# get z-score voxelwise for all FA patients (discrete)\n",
    "OUTPUT_DIR = \"OUTPUT/DISCRETE/FA-OUTPUT/FA-ZMAPS\"\n",
    "for i in range(len(D_files)):\n",
    "    z = (D_data_arr[i]-mean)/std\n",
    "    z_img = sitk.GetImageFromArray(z)\n",
    "    z_img.CopyInformation(D_data[0])\n",
    "    filename = \"Z-\" + os.path.basename(D_files[i])   # make sure zmap file name corresponds w patient number  \n",
    "    sitk.WriteImage(z_img, os.path.join(OUTPUT_DIR, filename))"
   ],
   "metadata": {
    "collapsed": false,
    "pycharm": {
     "name": "#%%\n",
     "is_executing": false
    }
   }
  },
  {
   "cell_type": "markdown",
   "source": [
    "MD"
   ],
   "metadata": {
    "collapsed": false,
    "pycharm": {
     "name": "#%% md\n"
    }
   }
  },
  {
   "cell_type": "code",
   "execution_count": 9,
   "outputs": [
    {
     "name": "stderr",
     "text": [
      "/Users/andreaperera/.local/share/virtualenvs/CISC499-Q3_yjSBR/lib/python3.6/site-packages/ipykernel_launcher.py:36: RuntimeWarning: invalid value encountered in true_divide\n",
      "/Users/andreaperera/.local/share/virtualenvs/CISC499-Q3_yjSBR/lib/python3.6/site-packages/ipykernel_launcher.py:45: RuntimeWarning: divide by zero encountered in true_divide\n/Users/andreaperera/.local/share/virtualenvs/CISC499-Q3_yjSBR/lib/python3.6/site-packages/ipykernel_launcher.py:45: RuntimeWarning: invalid value encountered in true_divide\n"
     ],
     "output_type": "stream"
    }
   ],
   "source": [
    "C_data = []\n",
    "C_files = glob.glob('CONTROL/MD/*.nii')\n",
    "for i in range(len(C_files)):\n",
    "    C_data.append(sitk.ReadImage(C_files[i]))\n",
    "D_data = []\n",
    "D_files = glob.glob('DISCRETE/MD/*.nii')\n",
    "for i in range(len(D_files)):\n",
    "    D_data.append(sitk.ReadImage(D_files[i]))\n",
    "\n",
    "# get arrays from images\n",
    "C_data_list = []\n",
    "for i in range(len(C_data)):\n",
    "    C_data_list.append(sitk.GetArrayFromImage(C_data[i]))\n",
    "D_data_list = []\n",
    "for i in range(len(D_data)):\n",
    "    D_data_list.append(sitk.GetArrayFromImage(D_data[i])) \n",
    "\n",
    "C_data_arr = np.array(C_data_list)\n",
    "D_data_arr = np.array(D_data_list) \n",
    "\n",
    "mean = np.mean(C_data_arr,axis=0)\n",
    "std = np.std(C_data_arr,axis=0)\n",
    "\n",
    "C_mean_img = sitk.GetImageFromArray(mean)\n",
    "C_mean_img.CopyInformation(C_data[0])\n",
    "C_std_img = sitk.GetImageFromArray(std)\n",
    "C_std_img.CopyInformation(C_data[0])\n",
    "\n",
    "OUTPUT_DIR = \"OUTPUT/CONTROL/MD-OUTPUT\"\n",
    "sitk.WriteImage(C_mean_img, os.path.join(OUTPUT_DIR, 'MD-MEAN-OUTPUT.nii'))\n",
    "sitk.WriteImage(C_std_img, os.path.join(OUTPUT_DIR, 'MD-STD-OUTPUT.nii'))\n",
    "\n",
    "# get z-score voxelwise for all MD controls\n",
    "OUTPUT_DIR = \"OUTPUT/CONTROL/MD-OUTPUT/MD-ZMAPS\"\n",
    "for i in range(len(C_files)):\n",
    "    z = (C_data_arr[i]-mean)/std\n",
    "    z_img = sitk.GetImageFromArray(z)\n",
    "    z_img.CopyInformation(C_mean_img)\n",
    "    filename = \"Z-\" + os.path.basename(C_files[i])   # make sure zmap file name corresponds w patient number  \n",
    "    sitk.WriteImage(z_img, os.path.join(OUTPUT_DIR, filename))\n",
    "    \n",
    "# get z-score voxelwise for all MD patients\n",
    "OUTPUT_DIR = \"OUTPUT/DISCRETE/MD-OUTPUT/MD-ZMAPS\"\n",
    "for i in range(len(D_files)):\n",
    "    z = (D_data_arr[i]-mean)/std\n",
    "    z_img = sitk.GetImageFromArray(z)\n",
    "    z_img.CopyInformation(D_data[0])\n",
    "    filename = \"Z-\" + os.path.basename(D_files[i])   # make sure zmap file name corresponds w patient number  \n",
    "    sitk.WriteImage(z_img, os.path.join(OUTPUT_DIR, filename))"
   ],
   "metadata": {
    "collapsed": false,
    "pycharm": {
     "name": "#%%\n",
     "is_executing": false
    }
   }
  },
  {
   "cell_type": "markdown",
   "source": [
    "ODI"
   ],
   "metadata": {
    "collapsed": false
   }
  },
  {
   "cell_type": "code",
   "execution_count": 10,
   "outputs": [
    {
     "name": "stderr",
     "text": [
      "/Users/andreaperera/.local/share/virtualenvs/CISC499-Q3_yjSBR/lib/python3.6/site-packages/ipykernel_launcher.py:36: RuntimeWarning: divide by zero encountered in true_divide\n/Users/andreaperera/.local/share/virtualenvs/CISC499-Q3_yjSBR/lib/python3.6/site-packages/ipykernel_launcher.py:36: RuntimeWarning: invalid value encountered in true_divide\n",
      "/Users/andreaperera/.local/share/virtualenvs/CISC499-Q3_yjSBR/lib/python3.6/site-packages/ipykernel_launcher.py:45: RuntimeWarning: divide by zero encountered in true_divide\n/Users/andreaperera/.local/share/virtualenvs/CISC499-Q3_yjSBR/lib/python3.6/site-packages/ipykernel_launcher.py:45: RuntimeWarning: invalid value encountered in true_divide\n"
     ],
     "output_type": "stream"
    }
   ],
   "source": [
    "C_data = []\n",
    "C_files = glob.glob('CONTROL/ODI/*.nii')\n",
    "for i in range(len(C_files)):\n",
    "    C_data.append(sitk.ReadImage(C_files[i]))\n",
    "D_data = []\n",
    "D_files = glob.glob('DISCRETE/ODI/*.nii')\n",
    "for i in range(len(D_files)):\n",
    "    D_data.append(sitk.ReadImage(D_files[i]))\n",
    "\n",
    "# get arrays from images\n",
    "C_data_list = []\n",
    "for i in range(len(C_data)):\n",
    "    C_data_list.append(sitk.GetArrayFromImage(C_data[i]))  \n",
    "D_data_list = []\n",
    "for i in range(len(D_data)):\n",
    "    D_data_list.append(sitk.GetArrayFromImage(D_data[i]))  \n",
    "\n",
    "C_data_arr = np.array(C_data_list) \n",
    "D_data_arr = np.array(D_data_list) \n",
    "\n",
    "mean = np.mean(C_data_arr,axis=0)\n",
    "std = np.std(C_data_arr,axis=0)\n",
    "\n",
    "C_mean_img = sitk.GetImageFromArray(mean)\n",
    "C_mean_img.CopyInformation(C_data[0])\n",
    "C_std_img = sitk.GetImageFromArray(std)\n",
    "C_std_img.CopyInformation(C_data[0])\n",
    "\n",
    "OUTPUT_DIR = \"OUTPUT/CONTROL/ODI-OUTPUT\"\n",
    "sitk.WriteImage(C_mean_img, os.path.join(OUTPUT_DIR, 'ODI-MEAN-OUTPUT.nii'))\n",
    "sitk.WriteImage(C_std_img, os.path.join(OUTPUT_DIR, 'ODI-STD-OUTPUT.nii'))\n",
    "\n",
    "# get z-score voxelwise for all ODI controls\n",
    "OUTPUT_DIR = \"OUTPUT/CONTROL/ODI-OUTPUT/ODI-ZMAPS\"\n",
    "for i in range(len(C_files)):\n",
    "    z = (C_data_arr[i]-mean)/std\n",
    "    z_img = sitk.GetImageFromArray(z)\n",
    "    z_img.CopyInformation(C_mean_img)\n",
    "    filename = \"Z-\" + os.path.basename(C_files[i])  \n",
    "    sitk.WriteImage(z_img, os.path.join(OUTPUT_DIR, filename))\n",
    "    \n",
    "# get z-score voxelwise for all ODI patients\n",
    "OUTPUT_DIR = \"OUTPUT/DISCRETE/ODI-OUTPUT/ODI-ZMAPS\"\n",
    "for i in range(len(D_files)):\n",
    "    z = (D_data_arr[i]-mean)/std\n",
    "    z_img = sitk.GetImageFromArray(z)\n",
    "    z_img.CopyInformation(D_data[0])\n",
    "    filename = \"Z-\" + os.path.basename(D_files[i])  \n",
    "    sitk.WriteImage(z_img, os.path.join(OUTPUT_DIR, filename))"
   ],
   "metadata": {
    "collapsed": false,
    "pycharm": {
     "name": "#%%\n",
     "is_executing": false
    }
   }
  },
  {
   "cell_type": "markdown",
   "source": [
    "FICVF"
   ],
   "metadata": {
    "collapsed": false
   }
  },
  {
   "cell_type": "code",
   "execution_count": 11,
   "outputs": [
    {
     "name": "stderr",
     "text": [
      "/Users/andreaperera/.local/share/virtualenvs/CISC499-Q3_yjSBR/lib/python3.6/site-packages/ipykernel_launcher.py:36: RuntimeWarning: divide by zero encountered in true_divide\n/Users/andreaperera/.local/share/virtualenvs/CISC499-Q3_yjSBR/lib/python3.6/site-packages/ipykernel_launcher.py:36: RuntimeWarning: invalid value encountered in true_divide\n",
      "/Users/andreaperera/.local/share/virtualenvs/CISC499-Q3_yjSBR/lib/python3.6/site-packages/ipykernel_launcher.py:45: RuntimeWarning: divide by zero encountered in true_divide\n/Users/andreaperera/.local/share/virtualenvs/CISC499-Q3_yjSBR/lib/python3.6/site-packages/ipykernel_launcher.py:45: RuntimeWarning: invalid value encountered in true_divide\n"
     ],
     "output_type": "stream"
    }
   ],
   "source": [
    "C_data = []\n",
    "C_files = glob.glob('CONTROL/FICVF/*.nii')\n",
    "for i in range(len(C_files)):\n",
    "    C_data.append(sitk.ReadImage(C_files[i]))\n",
    "D_data = []\n",
    "D_files = glob.glob('DISCRETE/FICVF/*.nii')\n",
    "for i in range(len(D_files)):\n",
    "    D_data.append(sitk.ReadImage(D_files[i]))\n",
    "\n",
    "# get arrays from images\n",
    "C_data_list = []\n",
    "for i in range(len(C_data)):\n",
    "    C_data_list.append(sitk.GetArrayFromImage(C_data[i]))  \n",
    "D_data_list = []\n",
    "for i in range(len(D_data)):\n",
    "    D_data_list.append(sitk.GetArrayFromImage(D_data[i]))  \n",
    "\n",
    "C_data_arr = np.array(C_data_list)\n",
    "D_data_arr = np.array(D_data_list) \n",
    "\n",
    "mean = np.mean(C_data_arr,axis=0)\n",
    "std = np.std(C_data_arr,axis=0)\n",
    "\n",
    "C_mean_img = sitk.GetImageFromArray(mean)\n",
    "C_mean_img.CopyInformation(C_data[0])\n",
    "C_std_img = sitk.GetImageFromArray(std)\n",
    "C_std_img.CopyInformation(C_data[0])\n",
    "\n",
    "OUTPUT_DIR = \"OUTPUT/CONTROL/FICVF-OUTPUT\"\n",
    "sitk.WriteImage(C_mean_img, os.path.join(OUTPUT_DIR, 'FICVF-MEAN-OUTPUT.nii'))\n",
    "sitk.WriteImage(C_std_img, os.path.join(OUTPUT_DIR, 'FICVF-STD-OUTPUT.nii'))\n",
    "\n",
    "# get z-score voxelwise for all FICVF controls\n",
    "OUTPUT_DIR = \"OUTPUT/CONTROL/FICVF-OUTPUT/FICVF-ZMAPS\"\n",
    "for i in range(len(C_files)):\n",
    "    z = (C_data_arr[i]-mean)/std\n",
    "    z_img = sitk.GetImageFromArray(z)\n",
    "    z_img.CopyInformation(C_mean_img)\n",
    "    filename = \"Z-\" + os.path.basename(C_files[i])   # make sure zmap file name corresponds w patient number  \n",
    "    sitk.WriteImage(z_img, os.path.join(OUTPUT_DIR, filename))\n",
    "    \n",
    "# get z-score voxelwise for all FICVF patients\n",
    "OUTPUT_DIR = \"OUTPUT/DISCRETE/FICVF-OUTPUT/FICVF-ZMAPS\"\n",
    "for i in range(len(D_files)):\n",
    "    z = (D_data_arr[i]-mean)/std\n",
    "    z_img = sitk.GetImageFromArray(z)\n",
    "    z_img.CopyInformation(D_data[0])\n",
    "    filename = \"Z-\" + os.path.basename(D_files[i])   # make sure zmap file name corresponds w patient number  \n",
    "    sitk.WriteImage(z_img, os.path.join(OUTPUT_DIR, filename))"
   ],
   "metadata": {
    "collapsed": false,
    "pycharm": {
     "name": "#%%\n",
     "is_executing": false
    }
   }
  }
 ],
 "metadata": {
  "language_info": {
   "codemirror_mode": {
    "name": "ipython",
    "version": 2
   },
   "file_extension": ".py",
   "mimetype": "text/x-python",
   "name": "python",
   "nbconvert_exporter": "python",
   "pygments_lexer": "ipython2",
   "version": "2.7.6"
  },
  "kernelspec": {
   "name": "python3",
   "language": "python",
   "display_name": "Python 3"
  },
  "pycharm": {
   "stem_cell": {
    "cell_type": "raw",
    "source": [],
    "metadata": {
     "collapsed": false
    }
   }
  }
 },
 "nbformat": 4,
 "nbformat_minor": 0
}