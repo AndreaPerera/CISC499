{
 "cells": [
  {
   "cell_type": "markdown",
   "metadata": {
    "collapsed": true,
    "pycharm": {
     "is_executing": false,
     "name": "#%% md\n"
    }
   },
   "source": [
    "z### Z-SCORING\n",
    "- Find mean & std dev over all patients in each modality\n",
    "- Find z-score of each voxel relative to group mean/std dev\n",
    "\n",
    "GM"
   ]
  },
  {
   "cell_type": "code",
   "execution_count": 31,
   "outputs": [
    {
     "name": "stdout",
     "text": [
      "CONTROL/GM/smwc1C011_T1.nii\n",
      "(121, 145, 121)\n",
      "4\n"
     ],
     "output_type": "stream"
    },
    {
     "name": "stderr",
     "text": [
      "/Users/andreaperera/.local/share/virtualenvs/CISC499-Q3_yjSBR/lib/python3.6/site-packages/ipykernel_launcher.py:39: RuntimeWarning: divide by zero encountered in true_divide\n/Users/andreaperera/.local/share/virtualenvs/CISC499-Q3_yjSBR/lib/python3.6/site-packages/ipykernel_launcher.py:39: RuntimeWarning: invalid value encountered in true_divide\n"
     ],
     "output_type": "stream"
    }
   ],
   "source": [
    "%matplotlib inline\n",
    "import SimpleITK as sitk\n",
    "import numpy as np\n",
    "import glob\n",
    "import os\n",
    "\n",
    "data = []\n",
    "files = glob.glob('CONTROL/GM/*.nii')\n",
    "print(files[0])\n",
    "for i in range(len(files)):\n",
    "    data.append(sitk.ReadImage(files[i]))\n",
    "\n",
    "# check size of mr image\n",
    "print(data[0].GetSize())\n",
    "\n",
    "# get arrays from images\n",
    "data_list = []\n",
    "for i in range(len(data)):\n",
    "    data_list.append(sitk.GetArrayFromImage(data[i]))  \n",
    " \n",
    "data_arr = np.array(data_list) \n",
    "print(data_arr.ndim) # idk how but this is a 4D array\n",
    "\n",
    "mean = np.mean(data_arr,axis=0)\n",
    "std = np.std(data_arr,axis=0)\n",
    "\n",
    "mean_img = sitk.GetImageFromArray(mean)\n",
    "mean_img.CopyInformation(data[0])\n",
    "\n",
    "std_img = sitk.GetImageFromArray(std)\n",
    "std_img.CopyInformation(data[0])\n",
    "\n",
    "OUTPUT_DIR = \"OUTPUT/GM-OUTPUT\"\n",
    "sitk.WriteImage(mean_img, os.path.join(OUTPUT_DIR, 'GM-MEAN-OUTPUT.nii'))\n",
    "sitk.WriteImage(std_img, os.path.join(OUTPUT_DIR, 'GM-STD-OUTPUT.nii'))\n",
    "\n",
    "# get z-score voxelwise\n",
    "# data_arr[i] gives 3D array representing an MR image\n",
    "test = (data_arr[0]-mean)/std\n",
    "\n",
    "test_img = sitk.GetImageFromArray(test)\n",
    "test_img.CopyInformation(mean_img)\n",
    "\n",
    "sitk.WriteImage(test_img, os.path.join(OUTPUT_DIR, 'GM-test-Z-output.nii'))"
   ],
   "metadata": {
    "collapsed": false,
    "pycharm": {
     "name": "#%%\n",
     "is_executing": false
    }
   }
  },
  {
   "cell_type": "markdown",
   "source": [
    "FA"
   ],
   "metadata": {
    "collapsed": false,
    "pycharm": {
     "name": "#%% md\n",
     "is_executing": false
    }
   }
  },
  {
   "cell_type": "code",
   "execution_count": 32,
   "outputs": [
    {
     "name": "stdout",
     "text": [
      "CONTROL/FA/swC047_DTI_FA.nii\n",
      "(121, 145, 121)\n",
      "4\n"
     ],
     "output_type": "stream"
    },
    {
     "name": "stderr",
     "text": [
      "/Users/andreaperera/.local/share/virtualenvs/CISC499-Q3_yjSBR/lib/python3.6/site-packages/ipykernel_launcher.py:34: RuntimeWarning: invalid value encountered in true_divide\n"
     ],
     "output_type": "stream"
    }
   ],
   "source": [
    "data = []\n",
    "files = glob.glob('CONTROL/FA/*.nii')\n",
    "print(files[0])\n",
    "for i in range(len(files)):\n",
    "    data.append(sitk.ReadImage(files[i]))\n",
    "\n",
    "# check size of mr image\n",
    "print(data[0].GetSize())\n",
    "\n",
    "\n",
    "# get arrays from images\n",
    "data_list = []\n",
    "for i in range(len(data)):\n",
    "    data_list.append(sitk.GetArrayFromImage(data[i]))  \n",
    "\n",
    "data_arr = np.array(data_list) \n",
    "print(data_arr.ndim) # idk how but this is a 4D array\n",
    "\n",
    "mean = np.mean(data_arr,axis=0)\n",
    "std = np.std(data_arr,axis=0)\n",
    "\n",
    "mean_img = sitk.GetImageFromArray(mean)\n",
    "mean_img.CopyInformation(data[0])\n",
    "\n",
    "std_img = sitk.GetImageFromArray(std)\n",
    "std_img.CopyInformation(data[0])\n",
    "\n",
    "OUTPUT_DIR = \"OUTPUT/FA-OUTPUT\"\n",
    "sitk.WriteImage(mean_img, os.path.join(OUTPUT_DIR, 'FA-MEAN-OUTPUT.nii'))\n",
    "sitk.WriteImage(std_img, os.path.join(OUTPUT_DIR, 'FA-STD-OUTPUT.nii'))\n",
    "\n",
    "# get z-score voxelwise\n",
    "# data_arr[i] gives 3D array representing an MR image\n",
    "test = (data_arr[0]-mean)/std\n",
    "#test = np.nan_to_num(test)\n",
    "\n",
    "test_img = sitk.GetImageFromArray(test)\n",
    "test_img.CopyInformation(mean_img)\n",
    "\n",
    "OUTPUT_DIR = \"OUTPUT/FA-OUTPUT/FA-ZMAPS\"\n",
    "sitk.WriteImage(test_img, os.path.join(OUTPUT_DIR, 'FA-test-Z-output.nii'))"
   ],
   "metadata": {
    "collapsed": false,
    "pycharm": {
     "name": "#%%\n",
     "is_executing": false
    }
   }
  },
  {
   "cell_type": "markdown",
   "source": [
    "MD"
   ],
   "metadata": {
    "collapsed": false,
    "pycharm": {
     "name": "#%% md\n"
    }
   }
  },
  {
   "cell_type": "code",
   "execution_count": null,
   "outputs": [],
   "source": [
    "\n"
   ],
   "metadata": {
    "collapsed": false,
    "pycharm": {
     "name": "#%%\n"
    }
   }
  }
 ],
 "metadata": {
  "language_info": {
   "codemirror_mode": {
    "name": "ipython",
    "version": 2
   },
   "file_extension": ".py",
   "mimetype": "text/x-python",
   "name": "python",
   "nbconvert_exporter": "python",
   "pygments_lexer": "ipython2",
   "version": "2.7.6"
  },
  "kernelspec": {
   "name": "python3",
   "language": "python",
   "display_name": "Python 3"
  },
  "pycharm": {
   "stem_cell": {
    "cell_type": "raw",
    "source": [],
    "metadata": {
     "collapsed": false
    }
   }
  }
 },
 "nbformat": 4,
 "nbformat_minor": 0
}