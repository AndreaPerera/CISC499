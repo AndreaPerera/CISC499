{
 "cells": [
  {
   "cell_type": "code",
   "execution_count": 18,
   "metadata": {
    "collapsed": true,
    "pycharm": {
     "is_executing": false
    }
   },
   "outputs": [
    {
     "name": "stdout",
     "text": [
      "(121, 145, 121)\n4\n",
      "3\n"
     ],
     "output_type": "stream"
    },
    {
     "name": "stderr",
     "text": [
      "/Users/andreaperera/.local/share/virtualenvs/CISC499-Q3_yjSBR/lib/python3.6/site-packages/ipykernel_launcher.py:38: RuntimeWarning: divide by zero encountered in true_divide\n/Users/andreaperera/.local/share/virtualenvs/CISC499-Q3_yjSBR/lib/python3.6/site-packages/ipykernel_launcher.py:38: RuntimeWarning: invalid value encountered in true_divide\n"
     ],
     "output_type": "stream"
    }
   ],
   "source": [
    "%matplotlib inline\n",
    "import SimpleITK as sitk\n",
    "import numpy as np\n",
    "import glob\n",
    "import os\n",
    "import matplotlib.pyplot as plt\n",
    "\n",
    "data = []\n",
    "files = glob.glob('data_subset/*.nii')\n",
    "for i in range(len(files)):\n",
    "    data.append(sitk.ReadImage(files[i]))\n",
    "\n",
    "# check size of mr image\n",
    "print(data[0].GetSize())\n",
    "\n",
    "# get arrays from images\n",
    "data_list = []\n",
    "for i in range(len(data)):\n",
    "    data_list.append(sitk.GetArrayFromImage(data[i]))  \n",
    " \n",
    "data_arr = np.array(data_list) \n",
    "print(data_arr.ndim) # idk how but this is a 4D array\n",
    "\n",
    "mean = np.mean(data_arr,axis=0)\n",
    "std = np.std(data_arr,axis=0)\n",
    "\n",
    "mean_img = sitk.GetImageFromArray(mean)\n",
    "mean_img.CopyInformation(data[0])\n",
    "\n",
    "std_img = sitk.GetImageFromArray(std)\n",
    "std_img.CopyInformation(data[0])\n",
    "\n",
    "OUTPUT_DIR = \"OUTPUT\"\n",
    "sitk.WriteImage(mean_img, os.path.join(OUTPUT_DIR, 'MEAN-OUTPUT.nii'))\n",
    "sitk.WriteImage(std_img, os.path.join(OUTPUT_DIR, 'STD-OUTPUT.nii'))\n",
    "\n",
    "# get z-score voxelwise\n",
    "# data_arr[i] gives 3D array representing an MR image\n",
    "test = (data_arr[0]-mean)/std\n",
    "test_img = sitk.GetImageFromArray(test)\n",
    "test_img.CopyInformation(mean_img)\n",
    "\n",
    "sitk.WriteImage(test_img, os.path.join(OUTPUT_DIR, 'test-Z-output.nii'))\n"
   ]
  }
 ],
 "metadata": {
  "language_info": {
   "codemirror_mode": {
    "name": "ipython",
    "version": 2
   },
   "file_extension": ".py",
   "mimetype": "text/x-python",
   "name": "python",
   "nbconvert_exporter": "python",
   "pygments_lexer": "ipython2",
   "version": "2.7.6"
  },
  "kernelspec": {
   "name": "python3",
   "language": "python",
   "display_name": "Python 3"
  },
  "pycharm": {
   "stem_cell": {
    "cell_type": "raw",
    "source": [],
    "metadata": {
     "collapsed": false
    }
   }
  }
 },
 "nbformat": 4,
 "nbformat_minor": 0
}