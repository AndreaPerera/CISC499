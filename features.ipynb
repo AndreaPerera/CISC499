{
 "cells": [
  {
   "cell_type": "markdown",
   "source": [
    "Create DataFrames for each patient to train SVM"
   ],
   "metadata": {
    "collapsed": false,
    "pycharm": {
     "name": "#%% md\n"
    }
   }
  },
  {
   "cell_type": "code",
   "execution_count": 2,
   "metadata": {
    "collapsed": true,
    "pycharm": {
     "is_executing": false
    }
   },
   "outputs": [],
   "source": [
    "import pandas as pd\n",
    "import numpy as np\n",
    "import SimpleITK as sitk\n",
    "import glob\n",
    "import os\n",
    "import re\n",
    "\n",
    "def create_col(p_ID, mode):\n",
    "    # modalities =  GM, MD, FA, FICVF, ODI\n",
    "    dir = \"OUTPUT/DISCRETE/LESIONS/\"\n",
    "    modes = {'GM': dir + 'GM-LESIONS/',\n",
    "            'MD': dir + 'MD-LESIONS/',\n",
    "            'FA': dir + 'FA-LESIONS/',\n",
    "            'FICVF': dir + 'FICVF-LESIONS/',\n",
    "            'ODI': dir + 'ODI-LESIONS/'\n",
    "           }\n",
    "    # data is sitk image type\n",
    "    # p_ID is patient ID (string)\n",
    "    \n",
    "    file = glob.glob( modes[mode] + \"*\" + p_ID + \"*.nii\")\n",
    "    if not file:\n",
    "        print(mode + \" modality doesn't exist for \" + p_ID)\n",
    "        return [0] * 2122945 # voxels in flattened mri\n",
    "\n",
    "    img = sitk.ReadImage(file[0])\n",
    "    arr = sitk.GetArrayFromImage(img)\n",
    "    arr = arr.flatten()\n",
    "    return arr\n",
    "   \n",
    "gm_lesions_file_list = glob.glob(\"OUTPUT/DISCRETE/LESIONS/GM-LESIONS/*\")\n",
    "gm_lesions_file_list.sort()\n",
    "    \n",
    "patient_ids = []\n",
    "\n",
    "for file in gm_lesions_file_list:\n",
    "    patient_ids.append(re.search('.*(D[0-9][0-9][0-9]).*', os.path.basename(file)).group(1))\n",
    "\n",
    "\n",
    "ALL_FRAMES =[]\n",
    "\n",
    "for patient in patient_ids:\n",
    "    df = pd.DataFrame({'GM' : create_col(patient, \"GM\"),\n",
    "                        'FA' : create_col(patient, \"FA\"),\n",
    "                        'MD' : create_col(patient, \"MD\"),\n",
    "                        'FICVF' : create_col(patient, \"FICVF\"),\n",
    "                        'ODI' : create_col(patient, \"ODI\"),\n",
    "                        'Target' : 1,\n",
    "                        'Target name' : 'Discrete',\n",
    "    })\n",
    "    ALL_FRAMES.append(df)\n",
    "\n",
    "test = ALL_FRAMES[0]"
   ]
  }
 ],
 "metadata": {
  "kernelspec": {
   "display_name": "Python 3",
   "language": "python",
   "name": "python3"
  },
  "language_info": {
   "codemirror_mode": {
    "name": "ipython",
    "version": 2
   },
   "file_extension": ".py",
   "mimetype": "text/x-python",
   "name": "python",
   "nbconvert_exporter": "python",
   "pygments_lexer": "ipython2",
   "version": "2.7.6"
  },
  "pycharm": {
   "stem_cell": {
    "cell_type": "raw",
    "source": [],
    "metadata": {
     "collapsed": false
    }
   }
  }
 },
 "nbformat": 4,
 "nbformat_minor": 0
}