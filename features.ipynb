{
 "cells": [
  {
   "cell_type": "markdown",
   "source": [
    "Create DataFrames for each patient to train SVM"
   ],
   "metadata": {
    "collapsed": false,
    "pycharm": {
     "name": "#%% md\n"
    }
   }
  },
  {
   "cell_type": "code",
   "execution_count": 1,
   "metadata": {
    "collapsed": true,
    "pycharm": {
     "is_executing": false,
     "name": "#%%\n"
    }
   },
   "outputs": [],
   "source": [
    "%matplotlib inline\n",
    "import pandas as pd\n",
    "import numpy as np\n",
    "import SimpleITK as sitk\n",
    "import glob\n",
    "import os\n",
    "import re\n",
    "import matplotlib.pyplot as plt"
   ]
  },
  {
   "cell_type": "markdown",
   "source": [
    "Discrete DataFrame creation"
   ],
   "metadata": {
    "collapsed": false,
    "pycharm": {
     "name": "#%% md\n"
    }
   }
  },
  {
   "cell_type": "code",
   "execution_count": 2,
   "outputs": [
    {
     "name": "stdout",
     "text": [
      "116941\n"
     ],
     "output_type": "stream"
    },
    {
     "data": {
      "text/plain": "<Figure size 432x288 with 1 Axes>",
      "image/png": "[encoded data removed]"
     },
     "metadata": {
      "needs_background": "light"
     },
     "output_type": "display_data"
    }
   ],
   "source": [
    "# function to create dataframe columns using lesion info\n",
    "def create_col(dir, p_ID, mode):\n",
    "    # modalities =  GM, MD, FA, FICVF, ODI\n",
    "    modes = {'GM': dir + 'GM-LESIONS/',\n",
    "            'MD': dir + 'MD-LESIONS/',\n",
    "            'FA': dir + 'FA-LESIONS/',\n",
    "            'FICVF': dir + 'FICVF-LESIONS/',\n",
    "            'ODI': dir + 'ODI-LESIONS/'\n",
    "           }\n",
    "    # data is sitk image type\n",
    "    # p_ID is patient ID (string)\n",
    "    \n",
    "    file = glob.glob( modes[mode] + \"*\" + p_ID + \"*.nii\")\n",
    "    if not file:\n",
    "        print(mode + \" modality doesn't exist for \" + p_ID)\n",
    "        return [0] * 2122945 # voxels in flattened mri\n",
    "\n",
    "    img = sitk.ReadImage(file[0])\n",
    "    arr = sitk.GetArrayFromImage(img)\n",
    "    arr = arr.flatten()\n",
    "    return arr\n",
    "   \n",
    "gm_lesions_file_list = glob.glob(\"OUTPUT/DISCRETE/LESIONS/GM-LESIONS/*\")\n",
    "gm_lesions_file_list.sort()\n",
    "    \n",
    "patient_ids = []\n",
    "\n",
    "for file in gm_lesions_file_list:\n",
    "    patient_ids.append(re.search('.*(D[0-9][0-9][0-9]).*', os.path.basename(file)).group(1))\n",
    "\n",
    "\n",
    "ALL_D_FRAMES =[]\n",
    "\n",
    "# create discrete df\n",
    "dir = \"OUTPUT/DISCRETE/LESIONS/\"\n",
    "\n",
    "for patient in patient_ids:\n",
    "    df = pd.DataFrame({'GM' : create_col(dir, patient, \"GM\"),\n",
    "                        'FA' : create_col(dir, patient, \"FA\"),\n",
    "                        'MD' : create_col(dir, patient, \"MD\"),\n",
    "                        'FICVF' : create_col(dir, patient, \"FICVF\"),\n",
    "                        'ODI' : create_col(dir, patient, \"ODI\") ,\n",
    "                      \n",
    "    })\n",
    "    \n",
    "    df = df[(df.T != 0).any()]\n",
    "    df['target_name'] = \"Discrete\"\n",
    "    df['target'] = 1\n",
    "    df = df.reset_index(drop=True)    \n",
    "    ALL_D_FRAMES.append(df)\n",
    "\n",
    "sizes = []\n",
    "for i in range(len(ALL_D_FRAMES)):\n",
    "    sizes.append(ALL_D_FRAMES[i].shape[0])\n",
    "tot = 0\n",
    "for i in range(len(sizes)):\n",
    "    tot = tot + sizes[i]\n",
    "print(tot)\n",
    "\n",
    "# check mean and range of sizes of lesions using boxplot \n",
    "df = pd.DataFrame(sizes, columns=['lesion_sizes'])\n",
    "boxplot = df.boxplot()\n",
    "plt.savefig(\"boxplot-image\")"
   ],
   "metadata": {
    "collapsed": false,
    "pycharm": {
     "name": "#%%\n",
     "is_executing": false
    }
   }
  },
  {
   "cell_type": "markdown",
   "source": [
    "Control DataFrame creation"
   ],
   "metadata": {
    "collapsed": false,
    "pycharm": {
     "name": "#%% md\n"
    }
   }
  },
  {
   "cell_type": "code",
   "execution_count": 3,
   "outputs": [],
   "source": [
    "# get patient IDs\n",
    "gm_lsn_files = glob.glob(\"OUTPUT/CONTROL/LESIONS/GM-LESIONS/*\")\n",
    "gm_lsn_files.sort()\n",
    "patient_ids = []\n",
    "for file in gm_lsn_files:\n",
    "    patient_ids.append(re.search('.*(C[0-9][0-9][0-9]).*', os.path.basename(file)).group(1))\n",
    "\n",
    "# create control df\n",
    "dir = \"OUTPUT/CONTROL/LESIONS/\"\n",
    "ALL_C_FRAMES = []\n",
    "for patient in patient_ids:\n",
    "    data = {'GM' : create_col(dir, patient, \"GM\"),\n",
    "                        'FA' : create_col(dir, patient, \"FA\"),\n",
    "                        'MD' : create_col(dir, patient, \"MD\"),\n",
    "                        'FICVF' : create_col(dir, patient, \"FICVF\"),\n",
    "                        'ODI' : create_col(dir, patient, \"ODI\"),      \n",
    "    }\n",
    "    df = pd.DataFrame(data, index=None)\n",
    "    df = df[(df.T != 0).any()]\n",
    "    df['target_name'] = \"Control\"\n",
    "    df['target'] = 0\n",
    "    df = df.reset_index(drop=True)    \n",
    "    ALL_C_FRAMES.append(df)"
   ],
   "metadata": {
    "collapsed": false,
    "pycharm": {
     "name": "#%%\n",
     "is_executing": false
    }
   }
  },
  {
   "cell_type": "code",
   "execution_count": 4,
   "outputs": [
    {
     "name": "stdout",
     "text": [
      "44\n62\n"
     ],
     "output_type": "stream"
    }
   ],
   "source": [
    "print(len(ALL_D_FRAMES))\n",
    "print(len(ALL_C_FRAMES))\n",
    "hello  = ALL_C_FRAMES[0].shape[0]\n",
    "all = pd.concat(ALL_C_FRAMES)\n",
    "\n",
    " \n",
    "c_train = ALL_C_FRAMES[0:22] #get 44 controls for train, TEMPORARILY HALVED\n",
    "d_train = ALL_D_FRAMES[0:16] # get 31 discrete for train, TEMPORARILY HALVED\n",
    "c_train_df = pd.concat(c_train)\n",
    "d_train_df = pd.concat(d_train)\n",
    "train_df = c_train_df.append(d_train_df)\n",
    "train_df = train_df.reset_index(drop=True)\n",
    "\n",
    "c_test = ALL_C_FRAMES[22:32] # get 18 controls for test, TEMPORARILY HALVED\n",
    "d_test = ALL_D_FRAMES[31:38] # get 13 discrete for test, TEMPORARILY HALVED\n",
    "\n",
    "c_test_df = pd.concat(c_test)\n",
    "d_test_df = pd.concat(d_test)\n",
    "test_df = c_test_df.append(d_test_df)\n",
    "test_df = test_df.reset_index(drop=True)\n",
    "\n",
    "train_df.to_csv('train-data.csv')\n",
    "test_df.to_csv('test-data.csv')\n"
   ],
   "metadata": {
    "collapsed": false,
    "pycharm": {
     "name": "#%%\n",
     "is_executing": false
    }
   }
  },
  {
   "cell_type": "code",
   "execution_count": 12,
   "outputs": [
    {
     "name": "stdout",
     "text": [
      "(11836, 7)\n"
     ],
     "output_type": "stream"
    }
   ],
   "source": [
    "yeet = ALL_D_FRAMES[31]\n",
    "print(yeet.shape)\n",
    "\n"
   ],
   "metadata": {
    "collapsed": false,
    "pycharm": {
     "name": "#%%\n",
     "is_executing": false
    }
   }
  }
 ],
 "metadata": {
  "kernelspec": {
   "display_name": "Python 3",
   "language": "python",
   "name": "python3"
  },
  "language_info": {
   "codemirror_mode": {
    "name": "ipython",
    "version": 2
   },
   "file_extension": ".py",
   "mimetype": "text/x-python",
   "name": "python",
   "nbconvert_exporter": "python",
   "pygments_lexer": "ipython2",
   "version": "2.7.6"
  },
  "pycharm": {
   "stem_cell": {
    "cell_type": "raw",
    "source": [],
    "metadata": {
     "collapsed": false
    }
   }
  }
 },
 "nbformat": 4,
 "nbformat_minor": 0
}