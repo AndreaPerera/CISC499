{
 "cells": [
  {
   "cell_type": "code",
   "execution_count": 3,
   "outputs": [
    {
     "name": "stdout",
     "text": [
      "(256, 128, 64)\n256\n128\n64\n[[[0 0 0 ... 0 0 0]\n  [0 0 0 ... 0 0 0]\n  [0 0 0 ... 0 0 0]\n  ...\n  [0 0 0 ... 0 0 0]\n  [0 0 0 ... 0 0 0]\n  [0 0 0 ... 0 0 0]]\n\n [[0 0 0 ... 0 0 0]\n  [0 0 0 ... 0 0 0]\n  [0 0 0 ... 0 0 0]\n  ...\n  [0 0 0 ... 0 0 0]\n  [0 0 0 ... 0 0 0]\n  [0 0 0 ... 0 0 0]]\n\n [[0 0 0 ... 0 0 0]\n  [0 0 0 ... 0 0 0]\n  [0 0 0 ... 0 0 0]\n  ...\n  [0 0 0 ... 0 0 0]\n  [0 0 0 ... 0 0 0]\n  [0 0 0 ... 0 0 0]]\n\n ...\n\n [[0 0 0 ... 0 0 0]\n  [0 0 0 ... 0 0 0]\n  [0 0 0 ... 0 0 0]\n  ...\n  [0 0 0 ... 0 0 0]\n  [0 0 0 ... 0 0 0]\n  [0 0 0 ... 0 0 0]]\n\n [[0 0 0 ... 0 0 0]\n  [0 0 0 ... 0 0 0]\n  [0 0 0 ... 0 0 0]\n  ...\n  [0 0 0 ... 0 0 0]\n  [0 0 0 ... 0 0 0]\n  [0 0 0 ... 0 0 0]]\n\n [[0 0 0 ... 0 0 0]\n  [0 0 0 ... 0 0 0]\n  [0 0 0 ... 0 0 0]\n  ...\n  [0 0 0 ... 0 0 0]\n  [0 0 0 ... 0 0 0]\n  [0 0 0 ... 0 0 0]]]\n0\n1\n"
     ],
     "output_type": "stream"
    }
   ],
   "source": [
    "%matplotlib inline\n",
    "import SimpleITK as sitk\n",
    "import matplotlib.pyplot as plt\n",
    "\n",
    "\n",
    "# image type can represent a 2D, 3D and 4D image\n",
    "# pixel types can be a scalar, multi-component vector or a run-length-encoded (RLE) \"label\"\n",
    "# Dimension, pixel type and size specified at construction\n",
    "\n",
    "image = sitk.Image(256, 128, 64, sitk.sitkInt16)\n",
    "print(image.GetSize())\n",
    "\n",
    "# Starting index of SimpleITK image is always 0\n",
    "# Size of image's dimensions have explicit accessors\n",
    "\n",
    "print(image.GetWidth())\n",
    "print(image.GetHeight())\n",
    "print(image.GetDepth())\n",
    "\n",
    "# Can convert between numpy and SimpleITK\n",
    "nda = sitk.GetArrayFromImage(image)\n",
    "print(nda)\n",
    "\n",
    "#mr_image = sitk.ReadImage('')\n",
    "\n",
    "print(image.GetPixel(0,0,0))\n",
    "image.SetPixel(0,0,0,1)\n",
    "print(image.GetPixel(0,0,0))\n",
    "\n",
    "#print(mr_image.GetPixel(100,100,100))\n",
    "\n",
    "#n_mr_image = sitk.GetArrayFromImage(mr_image)\n",
    "#print(n_mr_image)\n",
    "\n",
    "z = 0\n",
    "#slice = sitk.GetArrayViewFromImage(mr_image)[z,:,:]\n",
    "#plt.imshow(slice)\n",
    "\n",
    "# function to display 2D images in notebook\n",
    "def myshow(img):\n",
    "    nda = sitk.GetArrayViewFromImage(img)\n",
    "    plt.imshow(nda)\n",
    "\n",
    "# get a slice, and can do operations on them\n",
    "#myshow(mr_image[:,:,80])\n",
    "#myshow(mr_image[:,:,80]>0.5)\n",
    "\n"
   ],
   "metadata": {
    "collapsed": false,
    "pycharm": {
     "name": "#%%\n",
     "is_executing": false
    }
   }
  },
  {
   "cell_type": "code",
   "execution_count": null,
   "outputs": [],
   "source": [
    "# SimpleITK views images as physical objects occupying a bounded region in physical space\n",
    "# Images can have different spacing between pixels along each axis\n"
   ],
   "metadata": {
    "collapsed": false,
    "pycharm": {
     "name": "#%%\n",
     "is_executing": false
    }
   }
  }
 ],
 "metadata": {
  "language_info": {
   "codemirror_mode": {
    "name": "ipython",
    "version": 2
   },
   "file_extension": ".py",
   "mimetype": "text/x-python",
   "name": "python",
   "nbconvert_exporter": "python",
   "pygments_lexer": "ipython2",
   "version": "2.7.6"
  },
  "kernelspec": {
   "name": "python3",
   "language": "python",
   "display_name": "Python 3"
  },
  "pycharm": {
   "stem_cell": {
    "cell_type": "raw",
    "source": [],
    "metadata": {
     "collapsed": false
    }
   }
  }
 },
 "nbformat": 4,
 "nbformat_minor": 0
}