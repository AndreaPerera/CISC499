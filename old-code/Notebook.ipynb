{
 "cells": [
  {
   "cell_type": "markdown",
   "metadata": {
    "pycharm": {
     "name": "#%% md\n"
    }
   },
   "source": [
    "Hello World Tensorflow Example\n"
   ]
  },
  {
   "cell_type": "code",
   "execution_count": 54,
   "metadata": {
    "collapsed": false,
    "jupyter": {
     "outputs_hidden": false
    },
    "pycharm": {
     "is_executing": false,
     "name": "#%%\n"
    }
   },
   "outputs": [
    {
     "name": "stdout",
     "output_type": "stream",
     "text": [
      "Tensorflow version: 2.1.0\n",
      "Train on 60000 samples\n",
      "Epoch 1/3\n",
      "60000/60000 [==============================] - 4s 71us/sample - loss: 0.2721 - accuracy: 0.9212\n",
      "Epoch 2/3\n",
      "60000/60000 [==============================] - 4s 68us/sample - loss: 0.1080 - accuracy: 0.9670\n",
      "Epoch 3/3\n",
      "60000/60000 [==============================] - 4s 64us/sample - loss: 0.0740 - accuracy: 0.9762\n"
     ]
    },
    {
     "data": {
      "text/plain": [
       "<tensorflow.python.keras.callbacks.History at 0x13d209990>"
      ]
     },
     "execution_count": 54,
     "metadata": {},
     "output_type": "execute_result"
    }
   ],
   "source": [
    "import tensorflow as tf\n",
    "\n",
    "print(\"Tensorflow version: \" + tf.__version__)\n",
    "\n",
    "mnist = tf.keras.datasets.mnist # 28x28 images of hand-written digits\n",
    "(x_train, y_train), (x_test, y_test) = mnist.load_data()\n",
    "\n",
    "x_train = tf.keras.utils.normalize(x_train, axis=1)\n",
    "x_test = tf.keras.utils.normalize(x_test, axis=1)\n",
    "\n",
    "# architecture of model\n",
    "model = tf.keras.Sequential()\n",
    "model.add(tf.keras.layers.Flatten(input_shape=(28,28))) # first layer, input layer, want to be flat (may not need to flatten if CNN)\n",
    "model.add(tf.keras.layers.Dense(128, activation=tf.nn.relu)) # neurons in layer, activation function\n",
    "model.add(tf.keras.layers.Dense(128, activation=tf.nn.relu)) # neurons in layer, activation function\n",
    "model.add(tf.keras.layers.Dense(10, activation=tf.nn.softmax)) # output layer, number of classifications\n",
    "\n",
    "# parameters for the training of the model\n",
    "# loss -> degree of error, NN trying to minimize loss not maximize accuracy\n",
    "# metrics we want to track -> accuracy\n",
    "model.compile(optimizer = 'adam',\n",
    "              loss = 'sparse_categorical_crossentropy',\n",
    "              metrics = ['accuracy'])\n",
    "\n",
    "# ready to train model\n",
    "model.fit(x_train, y_train, epochs=3)\n",
    "              \n",
    "# NN good at fitting, but could overfit, we want model to generalize rather than memorize all samples passed"
   ]
  },
  {
   "cell_type": "code",
   "execution_count": 55,
   "metadata": {
    "collapsed": false,
    "jupyter": {
     "outputs_hidden": false
    },
    "pycharm": {
     "is_executing": false,
     "name": "#%%\n"
    }
   },
   "outputs": [
    {
     "name": "stdout",
     "output_type": "stream",
     "text": [
      "10000/10000 [==============================] - 0s 40us/sample - loss: 0.0943 - accuracy: 0.9724\n",
      "0.09432479011984542\n",
      "0.9724\n"
     ]
    }
   ],
   "source": [
    "# calculate validation loss and validation accuracy\n",
    "# if there's a huge delta, you probably overfit\n",
    "val_loss, val_acc = model.evaluate(x_test, y_test)\n",
    "print(val_loss)\n",
    "print(val_acc)"
   ]
  },
  {
   "cell_type": "code",
   "execution_count": 56,
   "metadata": {
    "collapsed": false,
    "jupyter": {
     "outputs_hidden": false
    },
    "pycharm": {
     "is_executing": false,
     "name": "#%%\n"
    }
   },
   "outputs": [
    {
     "data": {
      "image/png": "[encoded data removed]",
      "text/plain": [
       "<Figure size 432x288 with 1 Axes>"
      ]
     },
     "metadata": {
      "needs_background": "light"
     },
     "output_type": "display_data"
    }
   ],
   "source": [
    "import matplotlib.pyplot as plt\n",
    "plt.imshow(x_train[0], cmap = plt.cm.binary)\n",
    "plt.show()\n",
    "#print(x_train[0]) # values now between 0 and 1, easier for model to train"
   ]
  },
  {
   "cell_type": "code",
   "execution_count": 57,
   "metadata": {
    "collapsed": false,
    "jupyter": {
     "outputs_hidden": false
    },
    "pycharm": {
     "is_executing": false,
     "name": "#%% saving model\n"
    }
   },
   "outputs": [
    {
     "name": "stdout",
     "output_type": "stream",
     "text": [
      "INFO:tensorflow:Assets written to: num_reader.model/assets\n"
     ]
    }
   ],
   "source": [
    "model.save('num_reader.model')\n",
    "\n",
    "# load model\n",
    "new_model = tf.keras.models.load_model('num_reader.model')"
   ]
  },
  {
   "cell_type": "code",
   "execution_count": 58,
   "metadata": {
    "collapsed": false,
    "jupyter": {
     "outputs_hidden": false
    },
    "pycharm": {
     "is_executing": false,
     "name": "#%%\n"
    }
   },
   "outputs": [
    {
     "name": "stdout",
     "output_type": "stream",
     "text": [
      "[[5.48813155e-08 9.09693483e-07 7.12573601e-05 ... 9.99680638e-01\n",
      "  1.09596431e-06 1.62617907e-05]\n",
      " [2.52297361e-09 7.69753475e-04 9.99228835e-01 ... 1.48840745e-10\n",
      "  2.89130853e-08 2.85017305e-11]\n",
      " [3.38078259e-08 9.99935389e-01 3.18980210e-06 ... 2.58417476e-05\n",
      "  1.70999610e-05 2.90860413e-07]\n",
      " ...\n",
      " [1.04622776e-10 5.13628265e-07 1.10182352e-09 ... 1.48115369e-05\n",
      "  4.81748145e-07 2.26816810e-05]\n",
      " [5.59728619e-08 8.29437212e-08 3.56278007e-09 ... 2.51151221e-07\n",
      "  6.79292207e-05 1.35277331e-10]\n",
      " [2.84597286e-06 5.70897534e-08 3.83622228e-06 ... 9.41142164e-10\n",
      "  4.15842322e-07 1.83851832e-08]]\n"
     ]
    }
   ],
   "source": [
    "# make prediction\n",
    "predictions = new_model.predict([x_test])\n",
    "#print(predictions) # outputs probability distributions\n"
   ]
  },
  {
   "cell_type": "code",
   "execution_count": 59,
   "metadata": {
    "collapsed": false,
    "jupyter": {
     "outputs_hidden": false
    },
    "pycharm": {
     "is_executing": false,
     "name": "#%%\n"
    }
   },
   "outputs": [
    {
     "name": "stdout",
     "output_type": "stream",
     "text": [
      "7\n"
     ]
    }
   ],
   "source": [
    "import numpy as np\n",
    "print(np.argmax(predictions[0]))"
   ]
  },
  {
   "cell_type": "code",
   "execution_count": 60,
   "metadata": {
    "collapsed": false,
    "jupyter": {
     "outputs_hidden": false
    },
    "pycharm": {
     "is_executing": false,
     "name": "#%%\n"
    }
   },
   "outputs": [
    {
     "data": {
      "image/png": "[encoded data removed]",
      "text/plain": [
       "<Figure size 432x288 with 1 Axes>"
      ]
     },
     "metadata": {
      "needs_background": "light"
     },
     "output_type": "display_data"
    }
   ],
   "source": [
    "plt.imshow(x_test[0])\n",
    "plt.show()"
   ]
  }
 ],
 "metadata": {
  "kernelspec": {
   "display_name": "Python 3",
   "language": "python",
   "name": "python3"
  },
  "language_info": {
   "codemirror_mode": {
    "name": "ipython",
    "version": 3
   },
   "file_extension": ".py",
   "mimetype": "text/x-python",
   "name": "python",
   "nbconvert_exporter": "python",
   "pygments_lexer": "ipython3",
   "version": "3.8.0"
  },
  "pycharm": {
   "stem_cell": {
    "cell_type": "raw",
    "metadata": {
     "collapsed": false
    },
    "source": []
   }
  }
 },
 "nbformat": 4,
 "nbformat_minor": 4
}
