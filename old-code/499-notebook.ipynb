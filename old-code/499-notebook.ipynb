{
 "cells": [
  {
   "cell_type": "markdown",
   "source": [
    "### STEP 1: Z-SCORING  \n",
    "Load in file names"
   ],
   "metadata": {
    "collapsed": false
   }
  },
  {
   "cell_type": "code",
   "execution_count": 1,
   "metadata": {
    "collapsed": true,
    "pycharm": {
     "name": "#%% \n",
     "is_executing": false
    }
   },
   "outputs": [
    {
     "name": "stderr",
     "text": [
      "/Users/andreaperera/.local/share/virtualenvs/CISC499-Q3_yjSBR/lib/python3.6/site-packages/sklearn/utils/deprecation.py:144: FutureWarning: The sklearn.linear_model.base module is  deprecated in version 0.22 and will be removed in version 0.24. The corresponding classes / functions should instead be imported from sklearn.linear_model. Anything that cannot be imported from sklearn.linear_model is now part of the private API.\n  warnings.warn(message, FutureWarning)\n"
     ],
     "output_type": "stream"
    }
   ],
   "source": [
    "%matplotlib inline\n",
    "import nibabel as nb\n",
    "from nilearn import image\n",
    "from nilearn.plotting import plot_glass_brain\n",
    "from nltools.data import Brain_Data\n",
    "from nltools import data\n",
    "import numpy as np\n",
    "import matplotlib.pyplot as plt\n",
    "import glob\n",
    "import os\n",
    "\n",
    "# Read in each modality\n",
    "# CONTROL\n",
    "# GM_files is a list of pathnames\n",
    "CTL_GM_files = glob.glob('CONTROL/GM/*.nii')\n",
    "CTL_FA_files = glob.glob('CONTROL/FA/*.nii')\n",
    "CTL_MD_files = glob.glob('CONTROL/MD/*.nii')\n",
    "CTL_FICVF_files = glob.glob('CONTROL/FICVF/*.nii')\n",
    "CTL_ODI_files = glob.glob('CONTROL/ODI/*.nii')\n",
    "\n",
    "#DISCRETE\n",
    "D_GM_files = glob.glob('DISCRETE/GM/*.nii')\n",
    "D_FA_files = glob.glob('DISCRETE/FA/*.nii')\n",
    "D_MD_files = glob.glob('DISCRETE/MD/*.nii')\n",
    "D_FICVF_files = glob.glob('DISCRETE/FICVF/*.nii')\n",
    "D_ODI_files = glob.glob('DISCRETE/ODI/*.nii')"
   ]
  },
  {
   "cell_type": "markdown",
   "source": [
    "CONTROLS"
   ],
   "metadata": {
    "collapsed": false,
    "pycharm": {
     "name": "#%% md\n",
     "is_executing": false
    }
   }
  },
  {
   "cell_type": "code",
   "execution_count": null,
   "outputs": [],
   "source": [
    "%matplotlib inline\n",
    "import nibabel as nb\n",
    "from nilearn import image\n",
    "from nilearn.plotting import plot_glass_brain\n",
    "from nltools.data import Brain_Data\n",
    "from nltools import data\n",
    "import numpy as np\n",
    "import matplotlib.pyplot as plt\n",
    "import glob\n",
    "import os\n",
    "\n",
    "\n",
    "# GM_data is a list of Brain_Data objects\n",
    "# List is built by passing in file path as x to construct Brain_Data object\n",
    "CTL_GM_data = Brain_Data(CTL_GM_files)\n",
    "CTL_FA_data = Brain_Data(CTL_FA_files)\n",
    "CTL_MD_data = Brain_Data(CTL_MD_files)\n",
    "CTL_FICVF_data = Brain_Data(CTL_FICVF_files)\n",
    "CTL_ODI_data = Brain_Data(CTL_ODI_files)\n",
    "\n",
    "\n",
    "# Standardize each modality\n",
    "# GM_zmaps returns a 2D array of z-scores with the rows as the subjects and columns as voxels\n",
    "CTL_GM_zmaps = CTL_GM_data.standardize(0, 'zscore')\n",
    "CTL_FA_zmaps = CTL_FA_data.standardize(0, 'zscore')\n",
    "CTL_MD_zmaps = CTL_MD_data.standardize(0, 'zscore')\n",
    "CTL_FICVF_zmaps = CTL_FICVF_data.standardize(0, 'zscore')\n",
    "CTL_ODI_zmaps = CTL_ODI_data.standardize(0, 'zscore')"
   ],
   "metadata": {
    "collapsed": false,
    "pycharm": {
     "name": "#%%\n",
     "is_executing": true
    }
   }
  },
  {
   "cell_type": "markdown",
   "source": [
    "DISCRETE"
   ],
   "metadata": {
    "collapsed": false,
    "pycharm": {
     "name": "#%% md\n"
    }
   }
  },
  {
   "cell_type": "code",
   "execution_count": null,
   "outputs": [],
   "source": [
    "# GM_data is a list of Brain_Data objects\n",
    "# List is built by passing in file path as x to construct Brain_Data object\n",
    "D_GM_data = Brain_Data(D_GM_files)\n",
    "D_FA_data = Brain_Data(D_FA_files)\n",
    "D_MD_data = Brain_Data(D_MD_files)\n",
    "D_FICVF_data = Brain_Data(D_FICVF_files)\n",
    "D_ODI_data = Brain_Data(D_ODI_files)\n",
    "\n",
    "\n",
    "# Standardize each modality\n",
    "# GM_zmaps returns a 2D array of z-scores with the rows as the subjects and columns as voxels\n",
    "D_GM_zmaps = D_GM_data.standardize(0, 'zscore')\n",
    "D_FA_zmaps = D_FA_data.standardize(0, 'zscore')\n",
    "D_MD_zmaps = D_MD_data.standardize(0, 'zscore')\n",
    "D_FICVF_zmaps = D_FICVF_data.standardize(0, 'zscore')\n",
    "D_ODI_zmaps = D_ODI_data.standardize(0, 'zscore')\n",
    "  "
   ],
   "metadata": {
    "collapsed": false,
    "pycharm": {
     "name": "#%%\n",
     "is_executing": true
    }
   }
  },
  {
   "cell_type": "markdown",
   "source": [
    "Create Dataset with z-maps"
   ],
   "metadata": {
    "collapsed": false,
    "pycharm": {
     "name": "#%% md\n"
    }
   }
  },
  {
   "cell_type": "code",
   "execution_count": null,
   "outputs": [],
   "source": [
    "# 3D dataset where\n",
    "# x = number of modalities\n",
    "# y = number of voxels\n",
    "# z = number of subjects\n",
    "\n",
    "labels = ['Control', 'Discrete']\n",
    "features = ['GM', 'FA', 'MD', 'FICVF', 'ODI']\n",
    "dataset = np.zeros((62, 1000, 5)) \n",
    "print(dataset)"
   ],
   "metadata": {
    "collapsed": false,
    "pycharm": {
     "name": "#%%\n",
     "is_executing": true
    }
   }
  }
 ],
 "metadata": {
  "language_info": {
   "codemirror_mode": {
    "name": "ipython",
    "version": 2
   },
   "file_extension": ".py",
   "mimetype": "text/x-python",
   "name": "python",
   "nbconvert_exporter": "python",
   "pygments_lexer": "ipython2",
   "version": "2.7.6"
  },
  "kernelspec": {
   "name": "python3",
   "language": "python",
   "display_name": "Python 3"
  },
  "pycharm": {
   "stem_cell": {
    "cell_type": "raw",
    "source": [],
    "metadata": {
     "collapsed": false
    }
   }
  }
 },
 "nbformat": 4,
 "nbformat_minor": 0
}