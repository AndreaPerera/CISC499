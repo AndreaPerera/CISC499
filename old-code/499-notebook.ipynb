{
 "cells": [
  {
   "cell_type": "markdown",
   "source": [
    "### STEP 1: Z-SCORING  \n",
    "Load in file names"
   ],
   "metadata": {
    "collapsed": false
   }
  },
  {
   "cell_type": "code",
   "execution_count": 3,
   "metadata": {
    "collapsed": true,
    "pycharm": {
     "name": "#%% \n",
     "is_executing": false
    }
   },
   "outputs": [],
   "source": [
    "%matplotlib inline\n",
    "import nibabel as nb\n",
    "from nilearn import image\n",
    "from nilearn.plotting import plot_glass_brain\n",
    "from nltools.data import Brain_Data\n",
    "from nltools import data\n",
    "import numpy as np\n",
    "import matplotlib.pyplot as plt\n",
    "import glob\n",
    "import os\n",
    "\n",
    "# Read in each modality\n",
    "# CONTROL\n",
    "# GM_files is a list of pathnames\n",
    "CTL_GM_files = glob.glob('CONTROL/GM/*.nii')\n",
    "CTL_FA_files = glob.glob('CONTROL/FA/*.nii')\n",
    "CTL_MD_files = glob.glob('CONTROL/MD/*.nii')\n",
    "CTL_FICVF_files = glob.glob('CONTROL/FICVF/*.nii')\n",
    "CTL_ODI_files = glob.glob('CONTROL/ODI/*.nii')\n",
    "# \n",
    "# #DISCRETE\n",
    "D_GM_files = glob.glob('DISCRETE/GM/*.nii')\n",
    "D_FA_files = glob.glob('DISCRETE/FA/*.nii')\n",
    "D_MD_files = glob.glob('DISCRETE/MD/*.nii')\n",
    "D_FICVF_files = glob.glob('DISCRETE/FICVF/*.nii')\n",
    "D_ODI_files = glob.glob('DISCRETE/ODI/*.nii')"
   ]
  },
  {
   "cell_type": "markdown",
   "source": [
    "CONTROLS"
   ],
   "metadata": {
    "collapsed": false,
    "pycharm": {
     "name": "#%% md\n",
     "is_executing": false
    }
   }
  },
  {
   "cell_type": "code",
   "execution_count": 4,
   "outputs": [
    {
     "traceback": [
      "\u001b[0;31m---------------------------------------------------------------------------\u001b[0m",
      "\u001b[0;31mFileNotFoundError\u001b[0m                         Traceback (most recent call last)",
      "\u001b[0;32m~/.local/share/virtualenvs/CISC499-Q3_yjSBR/lib/python3.6/site-packages/nibabel/loadsave.py\u001b[0m in \u001b[0;36mload\u001b[0;34m(filename, **kwargs)\u001b[0m\n\u001b[1;32m     41\u001b[0m     \u001b[0;32mtry\u001b[0m\u001b[0;34m:\u001b[0m\u001b[0;34m\u001b[0m\u001b[0m\n\u001b[0;32m---> 42\u001b[0;31m         \u001b[0mstat_result\u001b[0m \u001b[0;34m=\u001b[0m \u001b[0mos\u001b[0m\u001b[0;34m.\u001b[0m\u001b[0mstat\u001b[0m\u001b[0;34m(\u001b[0m\u001b[0mfilename\u001b[0m\u001b[0;34m)\u001b[0m\u001b[0;34m\u001b[0m\u001b[0m\n\u001b[0m\u001b[1;32m     43\u001b[0m     \u001b[0;32mexcept\u001b[0m \u001b[0mOSError\u001b[0m\u001b[0;34m:\u001b[0m\u001b[0;34m\u001b[0m\u001b[0m\n",
      "\u001b[0;31mFileNotFoundError\u001b[0m: [Errno 2] No such file or directory: 'CONTROL/FA/swC001_DTI_FA.nii'",
      "\nDuring handling of the above exception, another exception occurred:\n",
      "\u001b[0;31mFileNotFoundError\u001b[0m                         Traceback (most recent call last)",
      "\u001b[0;32m<ipython-input-4-2502050d7c3d>\u001b[0m in \u001b[0;36m<module>\u001b[0;34m\u001b[0m\n\u001b[1;32m     10\u001b[0m \u001b[0;32mimport\u001b[0m \u001b[0mos\u001b[0m\u001b[0;34m\u001b[0m\u001b[0m\n\u001b[1;32m     11\u001b[0m \u001b[0;34m\u001b[0m\u001b[0m\n\u001b[0;32m---> 12\u001b[0;31m \u001b[0mexample\u001b[0m \u001b[0;34m=\u001b[0m \u001b[0mBrain_Data\u001b[0m\u001b[0;34m(\u001b[0m\u001b[0;34m'CONTROL/FA/swC001_DTI_FA.nii'\u001b[0m\u001b[0;34m)\u001b[0m\u001b[0;34m\u001b[0m\u001b[0m\n\u001b[0m\u001b[1;32m     13\u001b[0m \u001b[0;34m\u001b[0m\u001b[0m\n\u001b[1;32m     14\u001b[0m \u001b[0;34m\u001b[0m\u001b[0m\n",
      "\u001b[0;32m~/.local/share/virtualenvs/CISC499-Q3_yjSBR/lib/python3.6/site-packages/nltools/data/brain_data.py\u001b[0m in \u001b[0;36m__init__\u001b[0;34m(self, data, Y, X, mask, output_file, **kwargs)\u001b[0m\n\u001b[1;32m    131\u001b[0m \u001b[0;34m\u001b[0m\u001b[0m\n\u001b[1;32m    132\u001b[0m                 \u001b[0;32melse\u001b[0m\u001b[0;34m:\u001b[0m\u001b[0;34m\u001b[0m\u001b[0m\n\u001b[0;32m--> 133\u001b[0;31m                     \u001b[0mdata\u001b[0m \u001b[0;34m=\u001b[0m \u001b[0mnib\u001b[0m\u001b[0;34m.\u001b[0m\u001b[0mload\u001b[0m\u001b[0;34m(\u001b[0m\u001b[0mdata\u001b[0m\u001b[0;34m)\u001b[0m\u001b[0;34m\u001b[0m\u001b[0m\n\u001b[0m\u001b[1;32m    134\u001b[0m                 \u001b[0mself\u001b[0m\u001b[0;34m.\u001b[0m\u001b[0mdata\u001b[0m \u001b[0;34m=\u001b[0m \u001b[0mself\u001b[0m\u001b[0;34m.\u001b[0m\u001b[0mnifti_masker\u001b[0m\u001b[0;34m.\u001b[0m\u001b[0mfit_transform\u001b[0m\u001b[0;34m(\u001b[0m\u001b[0mdata\u001b[0m\u001b[0;34m)\u001b[0m\u001b[0;34m\u001b[0m\u001b[0m\n\u001b[1;32m    135\u001b[0m             \u001b[0;32melif\u001b[0m \u001b[0misinstance\u001b[0m\u001b[0;34m(\u001b[0m\u001b[0mdata\u001b[0m\u001b[0;34m,\u001b[0m \u001b[0mlist\u001b[0m\u001b[0;34m)\u001b[0m\u001b[0;34m:\u001b[0m\u001b[0;34m\u001b[0m\u001b[0m\n",
      "\u001b[0;32m~/.local/share/virtualenvs/CISC499-Q3_yjSBR/lib/python3.6/site-packages/nibabel/loadsave.py\u001b[0m in \u001b[0;36mload\u001b[0;34m(filename, **kwargs)\u001b[0m\n\u001b[1;32m     42\u001b[0m         \u001b[0mstat_result\u001b[0m \u001b[0;34m=\u001b[0m \u001b[0mos\u001b[0m\u001b[0;34m.\u001b[0m\u001b[0mstat\u001b[0m\u001b[0;34m(\u001b[0m\u001b[0mfilename\u001b[0m\u001b[0;34m)\u001b[0m\u001b[0;34m\u001b[0m\u001b[0m\n\u001b[1;32m     43\u001b[0m     \u001b[0;32mexcept\u001b[0m \u001b[0mOSError\u001b[0m\u001b[0;34m:\u001b[0m\u001b[0;34m\u001b[0m\u001b[0m\n\u001b[0;32m---> 44\u001b[0;31m         \u001b[0;32mraise\u001b[0m \u001b[0mFileNotFoundError\u001b[0m\u001b[0;34m(\u001b[0m\u001b[0;34m\"No such file or no access: '%s'\"\u001b[0m \u001b[0;34m%\u001b[0m \u001b[0mfilename\u001b[0m\u001b[0;34m)\u001b[0m\u001b[0;34m\u001b[0m\u001b[0m\n\u001b[0m\u001b[1;32m     45\u001b[0m     \u001b[0;32mif\u001b[0m \u001b[0mstat_result\u001b[0m\u001b[0;34m.\u001b[0m\u001b[0mst_size\u001b[0m \u001b[0;34m<=\u001b[0m \u001b[0;36m0\u001b[0m\u001b[0;34m:\u001b[0m\u001b[0;34m\u001b[0m\u001b[0m\n\u001b[1;32m     46\u001b[0m         \u001b[0;32mraise\u001b[0m \u001b[0mImageFileError\u001b[0m\u001b[0;34m(\u001b[0m\u001b[0;34m\"Empty file: '%s'\"\u001b[0m \u001b[0;34m%\u001b[0m \u001b[0mfilename\u001b[0m\u001b[0;34m)\u001b[0m\u001b[0;34m\u001b[0m\u001b[0m\n",
      "\u001b[0;31mFileNotFoundError\u001b[0m: No such file or no access: 'CONTROL/FA/swC001_DTI_FA.nii'"
     ],
     "ename": "FileNotFoundError",
     "evalue": "No such file or no access: 'CONTROL/FA/swC001_DTI_FA.nii'",
     "output_type": "error"
    }
   ],
   "source": [
    "%matplotlib inline\n",
    "import nibabel as nb\n",
    "from nilearn import image\n",
    "from nilearn.plotting import plot_glass_brain\n",
    "from nltools.data import Brain_Data\n",
    "from nltools import data\n",
    "import numpy as np\n",
    "import matplotlib.pyplot as plt\n",
    "import glob\n",
    "import os\n",
    "\n",
    "example = Brain_Data('CONTROL/FA/swC001_DTI_FA.nii')\n",
    "\n",
    "\n",
    "\n",
    "# GM_data is a list of Brain_Data objects\n",
    "# List is built by passing in file path as x to construct Brain_Data object\n",
    "CTL_GM_data = Brain_Data(CTL_GM_files)\n",
    "CTL_FA_data = Brain_Data(CTL_FA_files)\n",
    "CTL_MD_data = Brain_Data(CTL_MD_files)\n",
    "CTL_FICVF_data = Brain_Data(CTL_FICVF_files)\n",
    "CTL_ODI_data = Brain_Data(CTL_ODI_files)\n",
    "\n",
    "\n",
    "# Standardize each modality\n",
    "# GM_zmaps returns a 2D array of z-scores with the rows as the subjects and columns as voxels\n",
    "CTL_GM_zmaps = CTL_GM_data.standardize(0, 'zscore')\n",
    "CTL_FA_zmaps = CTL_FA_data.standardize(0, 'zscore')\n",
    "CTL_MD_zmaps = CTL_MD_data.standardize(0, 'zscore')\n",
    "CTL_FICVF_zmaps = CTL_FICVF_data.standardize(0, 'zscore')\n",
    "CTL_ODI_zmaps = CTL_ODI_data.standardize(0, 'zscore')"
   ],
   "metadata": {
    "collapsed": false,
    "pycharm": {
     "name": "#%%\n",
     "is_executing": false
    }
   }
  },
  {
   "cell_type": "markdown",
   "source": [
    "DISCRETE"
   ],
   "metadata": {
    "collapsed": false,
    "pycharm": {
     "name": "#%% md\n"
    }
   }
  },
  {
   "cell_type": "code",
   "execution_count": null,
   "outputs": [],
   "source": [
    "# GM_data is a list of Brain_Data objects\n",
    "# List is built by passing in file path as x to construct Brain_Data object\n",
    "D_GM_data = Brain_Data(D_GM_files)\n",
    "D_FA_data = Brain_Data(D_FA_files)\n",
    "D_MD_data = Brain_Data(D_MD_files)\n",
    "D_FICVF_data = Brain_Data(D_FICVF_files)\n",
    "D_ODI_data = Brain_Data(D_ODI_files)\n",
    "\n",
    "\n",
    "# Standardize each modality\n",
    "# GM_zmaps returns a 2D array of z-scores with the rows as the subjects and columns as voxels\n",
    "D_GM_zmaps = D_GM_data.standardize(0, 'zscore')\n",
    "D_FA_zmaps = D_FA_data.standardize(0, 'zscore')\n",
    "D_MD_zmaps = D_MD_data.standardize(0, 'zscore')\n",
    "D_FICVF_zmaps = D_FICVF_data.standardize(0, 'zscore')\n",
    "D_ODI_zmaps = D_ODI_data.standardize(0, 'zscore')\n",
    "  "
   ],
   "metadata": {
    "collapsed": false,
    "pycharm": {
     "name": "#%%\n",
     "is_executing": true
    }
   }
  },
  {
   "cell_type": "markdown",
   "source": [
    "Create Dataset with z-maps"
   ],
   "metadata": {
    "collapsed": false,
    "pycharm": {
     "name": "#%% md\n"
    }
   }
  },
  {
   "cell_type": "code",
   "execution_count": null,
   "outputs": [],
   "source": [
    "# 3D dataset where\n",
    "# x = number of modalities\n",
    "# y = number of voxels\n",
    "# z = number of subjects\n",
    " \n",
    "labels = ['Control', 'Discrete']\n",
    "features = ['GM', 'FA', 'MD', 'FICVF', 'ODI']\n",
    "dataset = np.zeros((62, 1000, 5)) \n",
    "print(dataset)"
   ],
   "metadata": {
    "collapsed": false,
    "pycharm": {
     "name": "#%%\n",
     "is_executing": true
    }
   }
  }
 ],
 "metadata": {
  "language_info": {
   "codemirror_mode": {
    "name": "ipython",
    "version": 2
   },
   "file_extension": ".py",
   "mimetype": "text/x-python",
   "name": "python",
   "nbconvert_exporter": "python",
   "pygments_lexer": "ipython2",
   "version": "2.7.6"
  },
  "kernelspec": {
   "name": "python3",
   "language": "python",
   "display_name": "Python 3"
  },
  "pycharm": {
   "stem_cell": {
    "cell_type": "raw",
    "source": [],
    "metadata": {
     "collapsed": false
    }
   }
  }
 },
 "nbformat": 4,
 "nbformat_minor": 0
}