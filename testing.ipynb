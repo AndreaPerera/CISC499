{
 "cells": [
  {
   "cell_type": "markdown",
   "metadata": {
    "collapsed": true,
    "pycharm": {
     "name": "#%% md\n"
    }
   },
   "source": [
    "TESTING MODEL & ASSESSING ACCURACY\n",
    "- Test model on individual discrete patients and on outliers\n",
    "- Generate probability colour maps\n",
    "- Calculate overlap metrics"
   ]
  },
  {
   "cell_type": "code",
   "execution_count": 30,
   "outputs": [],
   "source": [
    "import SimpleITK as sitk\n",
    "import pandas as pd\n",
    "import glob\n",
    "import numpy as np\n",
    "import os\n",
    "import joblib"
   ],
   "metadata": {
    "collapsed": false,
    "pycharm": {
     "name": "#%%\n"
    }
   }
  },
  {
   "cell_type": "markdown",
   "source": [
    "Create DataFrames for Test Patients (Non-outliers and outliers)"
   ],
   "metadata": {
    "collapsed": false,
    "pycharm": {
     "name": "#%% md\n"
    }
   }
  },
  {
   "cell_type": "code",
   "execution_count": 31,
   "outputs": [],
   "source": [
    "# load in model\n",
    "p_clf = joblib.load(\"p-rbf-clf.joblib\")"
   ],
   "metadata": {
    "collapsed": false,
    "pycharm": {
     "name": "#%%\n"
    }
   }
  },
  {
   "cell_type": "code",
   "execution_count": 32,
   "outputs": [],
   "source": [
    "# function to create the DataFrame columns\n",
    "def create_test_col(dir, p_ID, mode):\n",
    "      # modalities =  GM, MD, FA, FICVF, ODI\n",
    "    modes = {'GM': dir + 'GM-OUTPUT/GM-ZMAPS/',\n",
    "            'MD': dir + 'MD-OUTPUT/MD-ZMAPS/',\n",
    "            'FA': dir + 'FA-OUTPUT/FA-ZMAPS/',\n",
    "            'FICVF': dir + 'FICVF-OUTPUT/FICVF-ZMAPS/',\n",
    "            'ODI': dir + 'ODI-OUTPUT/ODI-ZMAPS/'\n",
    "           }\n",
    "    # data is sitk image type\n",
    "    # p_ID is patient ID (string)\n",
    "    \n",
    "    file = glob.glob( modes[mode] + \"*\" + p_ID + \"*.nii\")\n",
    "    if not file:\n",
    "        print(mode + \" modality doesn't exist for \" + p_ID)\n",
    "        return [0] * 2122945 # voxels in flattened mri\n",
    "\n",
    "    img = sitk.ReadImage(file[0])\n",
    "    arr = sitk.GetArrayFromImage(img)\n",
    "    arr = arr.flatten()\n",
    "    return arr\n",
    "\n",
    "# function to bring DataFrame columns together into single DF\n",
    "def create_test_df(dir, test_patient):\n",
    "    data = {'GM' : create_test_col(dir, test_patient, \"GM\"),\n",
    "                        'FA' : create_test_col(dir, test_patient, \"FA\"),\n",
    "                        'MD' : create_test_col(dir, test_patient, \"MD\"),\n",
    "                        'FICVF' : create_test_col(dir, test_patient, \"FICVF\"),\n",
    "                        'ODI' : create_test_col(dir, test_patient, \"ODI\"),\n",
    "        }\n",
    "    df = pd.DataFrame(data, index=None)\n",
    "    return df"
   ],
   "metadata": {
    "collapsed": false,
    "pycharm": {
     "name": "#%%\n"
    }
   }
  },
  {
   "cell_type": "code",
   "execution_count": 33,
   "outputs": [
    {
     "name": "stdout",
     "output_type": "stream",
     "text": [
      "Creating test patient DFS...\n",
      "DF created for patient:  D044\n",
      "DF created for patient:  D045\n",
      "DF created for patient:  D046\n",
      "DF created for patient:  D047\n",
      "DF created for patient:  D048\n",
      "DF created for patient:  D049\n"
     ]
    }
   ],
   "source": [
    "# these are the patients we are testing the model with and generation probability maps on\n",
    "# patients have not been seen by the model during training process\n",
    "patient_ids = [\"D044\", \"D045\", \"D046\", \"D047\", \"D048\", \"D049\"]\n",
    "\n",
    "patient_dfs = []\n",
    "dir = \"OUTPUT/DISCRETE/\"\n",
    "\n",
    "print(\"Creating test patient DFS...\")\n",
    "for patient in patient_ids:\n",
    "    df = create_test_df(dir, patient)\n",
    "    patient_dfs.append(df)\n",
    "    print(\"DF created for patient: \", patient)"
   ],
   "metadata": {
    "collapsed": false,
    "pycharm": {
     "name": "#%%\n"
    }
   }
  },
  {
   "cell_type": "code",
   "execution_count": 34,
   "outputs": [
    {
     "name": "stdout",
     "output_type": "stream",
     "text": [
      "\n",
      "Creating outlier patient DFS...\n",
      "DF created for outlier:  D021\n",
      "DF created for outlier:  D035\n",
      "Patient & Outlier DataFrames Created\n"
     ]
    }
   ],
   "source": [
    "# outlier patients have larger lesion sizes than training data used (~2500 voxels)\n",
    "# D021 lesion size: 6645 voxels\n",
    "# D035 lesion size: 11836 voxels\n",
    "outlier_ids = [\"D021\", \"D035\"]\n",
    "outlier_dfs = []\n",
    "print(\"\\nCreating outlier patient DFS...\")\n",
    "for outlier in outlier_ids:\n",
    "    df = create_test_df(dir, outlier)\n",
    "    outlier_dfs.append(df)\n",
    "    print(\"DF created for outlier: \", outlier)\n",
    "    \n",
    "print(\"Patient & Outlier DataFrames Created\")"
   ],
   "metadata": {
    "collapsed": false,
    "pycharm": {
     "name": "#%%\n"
    }
   }
  },
  {
   "cell_type": "markdown",
   "source": [
    "Generate Probability Colour Maps"
   ],
   "metadata": {
    "collapsed": false,
    "pycharm": {
     "name": "#%% md\n"
    }
   }
  },
  {
   "cell_type": "code",
   "execution_count": 35,
   "outputs": [],
   "source": [
    "# Function to generate probability maps\n",
    "\n",
    "# simply using example_img so we can use the sitk function CopyInformation to ensure when we convert from\n",
    "# array to image, the original image properties are maintained\n",
    "example_img = sitk.ReadImage(\"OUTPUT/DISCRETE/GM-OUTPUT/GM-ZMAPS/Z-smwc1D049_T1.nii\") \n",
    "def generate_colour_map(OUTPUT_DIR, df, p_ID):\n",
    "    X_test_patient = df\n",
    "    print(\"Predicting probability of patient: \", p_ID)\n",
    "    y_pred_patient = p_clf.predict_proba(X_test_patient)\n",
    "    print(\"Completed prediction of patient: \", p_ID)\n",
    "    print(\"Converting to MRI\")\n",
    "    vals = [y[1] for y in y_pred_patient] # take probabilities that there is a lesion present\n",
    "    vals = np.asarray(vals) \n",
    "    y_pred_patient_3D = vals.reshape((121, 145, 121)) # convert back to 3D array (MRI)\n",
    "    y_pred_patient_3D_img = sitk.GetImageFromArray(y_pred_patient_3D) # convert 3D array to nifti image\n",
    "    y_pred_patient_3D_img.CopyInformation(example_img)\n",
    "    filename = \"Probability-Map-\" + p_ID + \".nii\"\n",
    "    print(\"Writing image...\")\n",
    "    sitk.WriteImage(y_pred_patient_3D_img, os.path.join(OUTPUT_DIR, filename))\n",
    "    print(\"Probability map successfully generated!\")\n",
    "    print(\"-----------------------------------------\")"
   ],
   "metadata": {
    "collapsed": false,
    "pycharm": {
     "name": "#%%\n"
    }
   }
  },
  {
   "cell_type": "code",
   "execution_count": 36,
   "outputs": [
    {
     "name": "stdout",
     "output_type": "stream",
     "text": [
      "Generating probability maps for test patients...\n",
      "Predicting probability of patient:  D044\n",
      "Completed prediction of patient:  D044\n",
      "Converting to MRI\n",
      "Writing image...\n",
      "Probability map successfully generated!\n",
      "-----------------------------------------\n",
      "Predicting probability of patient:  D045\n",
      "Completed prediction of patient:  D045\n",
      "Converting to MRI\n",
      "Writing image...\n",
      "Probability map successfully generated!\n",
      "-----------------------------------------\n",
      "Predicting probability of patient:  D046\n",
      "Completed prediction of patient:  D046\n",
      "Converting to MRI\n",
      "Writing image...\n",
      "Probability map successfully generated!\n",
      "-----------------------------------------\n",
      "Predicting probability of patient:  D047\n",
      "Completed prediction of patient:  D047\n",
      "Converting to MRI\n",
      "Writing image...\n",
      "Probability map successfully generated!\n",
      "-----------------------------------------\n",
      "Predicting probability of patient:  D048\n",
      "Completed prediction of patient:  D048\n",
      "Converting to MRI\n",
      "Writing image...\n",
      "Probability map successfully generated!\n",
      "-----------------------------------------\n",
      "Predicting probability of patient:  D049\n",
      "Completed prediction of patient:  D049\n",
      "Converting to MRI\n",
      "Writing image...\n",
      "Probability map successfully generated!\n",
      "-----------------------------------------\n"
     ]
    }
   ],
   "source": [
    "print(\"Generating probability maps for test patients...\")\n",
    "dir =\"OUTPUT/PROBABILITY-MAPS/TEST-PATIENTS\"\n",
    "\n",
    "for df, p_id in zip(patient_dfs, patient_ids):\n",
    "    generate_colour_map(dir, df, p_id)"
   ],
   "metadata": {
    "collapsed": false,
    "pycharm": {
     "name": "#%%\n"
    }
   }
  },
  {
   "cell_type": "code",
   "execution_count": 37,
   "outputs": [
    {
     "name": "stdout",
     "output_type": "stream",
     "text": [
      "Generating probability maps for outliers...\n",
      "Predicting probability of patient:  D021\n",
      "Completed prediction of patient:  D021\n",
      "Converting to MRI\n",
      "Writing image...\n",
      "Probability map successfully generated!\n",
      "-----------------------------------------\n",
      "Predicting probability of patient:  D035\n",
      "Completed prediction of patient:  D035\n",
      "Converting to MRI\n",
      "Writing image...\n",
      "Probability map successfully generated!\n",
      "-----------------------------------------\n"
     ]
    }
   ],
   "source": [
    "print(\"Generating probability maps for outliers...\")\n",
    "dir =\"OUTPUT/PROBABILITY-MAPS/OUTLIERS\"\n",
    "\n",
    "for df, p_id in zip(outlier_dfs, outlier_ids):\n",
    "    generate_colour_map(dir, df, p_id)"
   ],
   "metadata": {
    "collapsed": false,
    "pycharm": {
     "name": "#%%\n"
    }
   }
  },
  {
   "cell_type": "markdown",
   "source": [
    "Segment Probability Maps"
   ],
   "metadata": {
    "collapsed": false,
    "pycharm": {
     "name": "#%% md\n"
    }
   }
  },
  {
   "cell_type": "code",
   "execution_count": 38,
   "outputs": [],
   "source": [
    "# we want to exclude the air around the resulting probability map so we use\n",
    "# a segmentation label created using 3DSlicer and simply multiply the 2 images together\n",
    "def segment_prob_map(dir, predicted_img, segment_mask_arr):\n",
    "    pred_img = sitk.ReadImage(predicted_img)\n",
    "    pred_img_arr = sitk.GetArrayFromImage(pred_img)\n",
    "    segmented_pred = segment_mask_arr * pred_img_arr\n",
    "    segmented_pred_img = sitk.GetImageFromArray(segmented_pred)\n",
    "    segmented_pred_img.CopyInformation(example_img)\n",
    "    filename = \"S-\" + os.path.basename(predicted_img) + \".nii\"\n",
    "    sitk.WriteImage(segmented_pred_img, os.path.join(dir, filename))"
   ],
   "metadata": {
    "collapsed": false,
    "pycharm": {
     "name": "#%% \n"
    }
   }
  },
  {
   "cell_type": "code",
   "execution_count": 39,
   "outputs": [],
   "source": [
    "# use this segmentation label to exclude air around brain scan\n",
    "segment_mask = sitk.ReadImage(\"Segmentation-label.nrrd\")\n",
    "mask_arr = sitk.GetArrayFromImage(segment_mask)\n",
    "mask_arr[mask_arr == 2] = 0 # ensure that positive labels are 1 and negative labels are 0 "
   ],
   "metadata": {
    "collapsed": false,
    "pycharm": {
     "name": "#%%\n"
    }
   }
  },
  {
   "cell_type": "code",
   "execution_count": 40,
   "outputs": [
    {
     "name": "stdout",
     "output_type": "stream",
     "text": [
      "Segmenting probability maps for test patients...\n",
      "Segmented probability maps created for test patients\n"
     ]
    }
   ],
   "source": [
    "print(\"Segmenting probability maps for test patients...\")\n",
    "test_maps = glob.glob(\"OUTPUT/PROBABILITY-MAPS/TEST-PATIENTS/*.nii\")\n",
    "dir =\"OUTPUT/PROBABILITY-MAPS/TEST-PATIENTS/SEGMENTED-MAPS\"\n",
    "for map in test_maps:\n",
    "    segment_prob_map(dir, map, mask_arr)\n",
    "print(\"Segmented probability maps created for test patients\")"
   ],
   "metadata": {
    "collapsed": false,
    "pycharm": {
     "name": "#%%\n"
    }
   }
  },
  {
   "cell_type": "code",
   "execution_count": 41,
   "outputs": [
    {
     "name": "stdout",
     "output_type": "stream",
     "text": [
      "Segmenting probability maps for outliers...\n",
      "Outlier probability maps segmented\n"
     ]
    }
   ],
   "source": [
    "print(\"Segmenting probability maps for outliers...\")\n",
    "dir =\"OUTPUT/PROBABILITY-MAPS/OUTLIERS/SEGMENTED-MAPS\"\n",
    "outlier_maps = glob.glob(\"OUTPUT/PROBABILITY-MAPS/OUTLIERS/*.nii\")\n",
    "for map in outlier_maps:\n",
    "    segment_prob_map(dir, map, mask_arr)\n",
    "print(\"Outlier probability maps segmented\")"
   ],
   "metadata": {
    "collapsed": false,
    "pycharm": {
     "name": "#%%\n"
    }
   }
  },
  {
   "cell_type": "markdown",
   "source": [
    "Calculate Dice score for test patients"
   ],
   "metadata": {
    "collapsed": false,
    "pycharm": {
     "name": "#%% md\n"
    }
   }
  },
  {
   "cell_type": "code",
   "execution_count": 42,
   "outputs": [],
   "source": [
    "from scipy.spatial import distance\n",
    "# function takes in a predicted patient probability map, a patient's specific spherical segment label map\n",
    "# around the lesion and a threshold value to which the voxel values will be considered as as abnormal\n",
    "def dice_score(patient, segment, lesion, threshold):\n",
    "    segment = sitk.ReadImage(segment)\n",
    "    segment_arr = sitk.GetArrayFromImage(segment)\n",
    "    segment_arr[segment_arr == 2 ] = 0\n",
    "\n",
    "    patient = sitk.ReadImage(patient)\n",
    "    patient_arr = sitk.GetArrayFromImage(patient)\n",
    "    # must convert probability to binary value for dice score\n",
    "    # also thresholding according to specific value\n",
    "    patient_arr[patient_arr >= threshold] = 1\n",
    "    patient_arr[patient_arr < threshold] = 0\n",
    "\n",
    "    seg_patient_arr = patient_arr * segment_arr # segment area\n",
    "    lesion_arr = sitk.GetArrayFromImage(sitk.ReadImage(lesion))\n",
    "    \n",
    "    seg = seg_patient_arr\n",
    "    truth = lesion_arr\n",
    "\n",
    "    \n",
    "    # numpy dice calculates dice dissimilarily of 2 1D arrays so we must flatten our arrays\n",
    "    # and subtract from 1 to get dice similarity\n",
    "    dice_sc = (1-distance.dice(seg.flatten(), truth.flatten()))\n",
    "    return dice_sc\n"
   ],
   "metadata": {
    "collapsed": false,
    "pycharm": {
     "name": "#%%\n"
    }
   }
  },
  {
   "cell_type": "code",
   "execution_count": 88,
   "outputs": [
    {
     "name": "stdout",
     "output_type": "stream",
     "text": [
      "PATIENT D021 DICE SCORE (outlier)\n",
      "At threshold 0.5 =  0.30695744475537967\n",
      "At threshold 0.8 =  0.18018644775288717\n",
      "At threshold 0.94 =  0.08483079449055919\n",
      "---------------------------------\n",
      "PATIENT D035 DICE SCORE (outlier)\n",
      "At threshold 0.5 =  0.5486725663716814\n",
      "At threshold 0.8 =  0.6032170089608727\n",
      "At threshold 0.94 =  0.6577731502570443\n",
      "---------------------------------\n",
      "PATIENT D044 DICE SCORE\n",
      "At threshold 0.5 =  0.33638443935926776\n",
      "At threshold 0.8 =  0.5092327698309493\n",
      "At threshold 0.94 =  0.6597141753572808\n",
      "---------------------------------\n",
      "PATIENT D045 DICE SCORE\n",
      "At threshold 0.5 =  0.27979274611398963\n",
      "At threshold 0.8 =  0.3275897020068923\n",
      "At threshold 0.94 =  0.4099740932642487\n",
      "---------------------------------\n",
      "PATIENT D046 DICE SCORE\n",
      "At threshold 0.5 =  0.11600394347683207\n",
      "At threshold 0.8 =  0.13734072561034916\n",
      "At threshold 0.94 =  0.20177956371986228\n",
      "---------------------------------\n",
      "PATIENT D047 DICE SCORE\n",
      "At threshold 0.5 =  0.37027569837502283\n",
      "At threshold 0.8 =  0.45025919526042957\n",
      "At threshold 0.94 =  0.517020559487698\n",
      "---------------------------------\n",
      "PATIENT D048 DICE SCORE\n",
      "At threshold 0.5 =  0.476409666283084\n",
      "At threshold 0.8 =  0.5843429636533084\n",
      "At threshold 0.94 =  0.5139593908629442\n",
      "---------------------------------\n",
      "PATIENT D049 DICE SCORE\n",
      "At threshold 0.5 =  0.17370812994445384\n",
      "At threshold 0.8 =  0.181295515523189\n",
      "At threshold 0.94 =  0.12337259764414132\n",
      "---------------------------------\n"
     ]
    }
   ],
   "source": [
    "# Calculate dice score of individual test patients at different thresholds for report\n",
    "\n",
    "print(\"PATIENT D021 DICE SCORE (outlier)\")\n",
    "print(\"At threshold 0.5 = \", dice_score(\"OUTPUT/PROBABILITY-MAPS/OUTLIERS/SEGMENTED-MAPS/S-Probability-Map-D021.nii\", \"Segmentation-label-D021.nrrd\", \"DISCRETE/Lesion-Masks/wD021_Lesion.nii\", 0.5))\n",
    "print(\"At threshold 0.8 = \", dice_score(\"OUTPUT/PROBABILITY-MAPS/OUTLIERS/SEGMENTED-MAPS/S-Probability-Map-D021.nii\", \"Segmentation-label-D021.nrrd\", \"DISCRETE/Lesion-Masks/wD021_Lesion.nii\", 0.8))\n",
    "print(\"At threshold 0.94 = \", dice_score(\"OUTPUT/PROBABILITY-MAPS/OUTLIERS/SEGMENTED-MAPS/S-Probability-Map-D021.nii\", \"Segmentation-label-D021.nrrd\", \"DISCRETE/Lesion-Masks/wD021_Lesion.nii\", 0.94))\n",
    "print(\"---------------------------------\")\n",
    "\n",
    "print(\"PATIENT D035 DICE SCORE (outlier)\")\n",
    "print(\"At threshold 0.5 = \", dice_score(\"OUTPUT/PROBABILITY-MAPS/OUTLIERS/SEGMENTED-MAPS/S-Probability-Map-D035.nii\", \"Segmentation-label-D035.nrrd\", \"DISCRETE/Lesion-Masks/wD035_Lesion.nii\", 0.5))\n",
    "print(\"At threshold 0.8 = \", dice_score(\"OUTPUT/PROBABILITY-MAPS/OUTLIERS/SEGMENTED-MAPS/S-Probability-Map-D035.nii\", \"Segmentation-label-D035.nrrd\", \"DISCRETE/Lesion-Masks/wD035_Lesion.nii\", 0.8))\n",
    "print(\"At threshold 0.94 = \", dice_score(\"OUTPUT/PROBABILITY-MAPS/OUTLIERS/SEGMENTED-MAPS/S-Probability-Map-D035.nii\", \"Segmentation-label-D035.nrrd\", \"DISCRETE/Lesion-Masks/wD035_Lesion.nii\", 0.94))\n",
    "print(\"---------------------------------\")\n",
    "\n",
    "print(\"PATIENT D044 DICE SCORE\")\n",
    "print(\"At threshold 0.5 = \", dice_score(\"OUTPUT/PROBABILITY-MAPS/TEST-PATIENTS/SEGMENTED-MAPS/S-Probability-Map-D044.nii\", \"Segmentation-label-D044.nrrd\", \"DISCRETE/Lesion-Masks/wD044_Lesion.nii\", 0.5))\n",
    "print(\"At threshold 0.8 = \", dice_score(\"OUTPUT/PROBABILITY-MAPS/TEST-PATIENTS/SEGMENTED-MAPS/S-Probability-Map-D044.nii\", \"Segmentation-label-D044.nrrd\", \"DISCRETE/Lesion-Masks/wD044_Lesion.nii\", 0.8))\n",
    "print(\"At threshold 0.94 = \", dice_score(\"OUTPUT/PROBABILITY-MAPS/TEST-PATIENTS/SEGMENTED-MAPS/S-Probability-Map-D044.nii\", \"Segmentation-label-D044.nrrd\", \"DISCRETE/Lesion-Masks/wD044_Lesion.nii\", 0.94))\n",
    "print(\"---------------------------------\")\n",
    "\n",
    "print(\"PATIENT D045 DICE SCORE\")\n",
    "print(\"At threshold 0.5 = \", dice_score(\"OUTPUT/PROBABILITY-MAPS/TEST-PATIENTS/SEGMENTED-MAPS/S-Probability-Map-D045.nii\", \"Segmentation-label-D045.nrrd\", \"DISCRETE/Lesion-Masks/wD045_Lesion.nii\", 0.5))\n",
    "print(\"At threshold 0.8 = \", dice_score(\"OUTPUT/PROBABILITY-MAPS/TEST-PATIENTS/SEGMENTED-MAPS/S-Probability-Map-D045.nii\", \"Segmentation-label-D045.nrrd\", \"DISCRETE/Lesion-Masks/wD045_Lesion.nii\", 0.8))\n",
    "print(\"At threshold 0.94 = \", dice_score(\"OUTPUT/PROBABILITY-MAPS/TEST-PATIENTS/SEGMENTED-MAPS/S-Probability-Map-D045.nii\", \"Segmentation-label-D045.nrrd\", \"DISCRETE/Lesion-Masks/wD045_Lesion.nii\", 0.94))\n",
    "print(\"---------------------------------\")\n",
    "\n",
    "print(\"PATIENT D046 DICE SCORE\")\n",
    "print(\"At threshold 0.5 = \", dice_score(\"OUTPUT/PROBABILITY-MAPS/TEST-PATIENTS/SEGMENTED-MAPS/S-Probability-Map-D046.nii\", \"Segmentation-label-D046.nrrd\", \"DISCRETE/Lesion-Masks/wD046_Lesion.nii\", 0.5))\n",
    "print(\"At threshold 0.8 = \", dice_score(\"OUTPUT/PROBABILITY-MAPS/TEST-PATIENTS/SEGMENTED-MAPS/S-Probability-Map-D046.nii\", \"Segmentation-label-D046.nrrd\", \"DISCRETE/Lesion-Masks/wD046_Lesion.nii\", 0.8))\n",
    "print(\"At threshold 0.94 = \", dice_score(\"OUTPUT/PROBABILITY-MAPS/TEST-PATIENTS/SEGMENTED-MAPS/S-Probability-Map-D046.nii\", \"Segmentation-label-D046.nrrd\", \"DISCRETE/Lesion-Masks/wD046_Lesion.nii\", 0.94))\n",
    "print(\"---------------------------------\")\n",
    "\n",
    "print(\"PATIENT D047 DICE SCORE\")\n",
    "print(\"At threshold 0.5 = \", dice_score(\"OUTPUT/PROBABILITY-MAPS/TEST-PATIENTS/SEGMENTED-MAPS/S-Probability-Map-D047.nii\", \"Segmentation-label-D047.nrrd\", \"DISCRETE/Lesion-Masks/wD047_Lesion.nii\", 0.5))\n",
    "print(\"At threshold 0.8 = \", dice_score(\"OUTPUT/PROBABILITY-MAPS/TEST-PATIENTS/SEGMENTED-MAPS/S-Probability-Map-D047.nii\", \"Segmentation-label-D047.nrrd\", \"DISCRETE/Lesion-Masks/wD047_Lesion.nii\", 0.8))\n",
    "print(\"At threshold 0.94 = \", dice_score(\"OUTPUT/PROBABILITY-MAPS/TEST-PATIENTS/SEGMENTED-MAPS/S-Probability-Map-D047.nii\", \"Segmentation-label-D047.nrrd\", \"DISCRETE/Lesion-Masks/wD047_Lesion.nii\", 0.94))\n",
    "print(\"---------------------------------\")\n",
    "\n",
    "print(\"PATIENT D048 DICE SCORE\")\n",
    "print(\"At threshold 0.5 = \", dice_score(\"OUTPUT/PROBABILITY-MAPS/TEST-PATIENTS/SEGMENTED-MAPS/S-Probability-Map-D048.nii\", \"Segmentation-label-D048.nrrd\", \"DISCRETE/Lesion-Masks/wD048_Lesion.nii\", 0.5))\n",
    "print(\"At threshold 0.8 = \", dice_score(\"OUTPUT/PROBABILITY-MAPS/TEST-PATIENTS/SEGMENTED-MAPS/S-Probability-Map-D048.nii\", \"Segmentation-label-D048.nrrd\", \"DISCRETE/Lesion-Masks/wD048_Lesion.nii\", 0.8))\n",
    "print(\"At threshold 0.94 = \", dice_score(\"OUTPUT/PROBABILITY-MAPS/TEST-PATIENTS/SEGMENTED-MAPS/S-Probability-Map-D048.nii\", \"Segmentation-label-D048.nrrd\", \"DISCRETE/Lesion-Masks/wD048_Lesion.nii\", 0.94))\n",
    "print(\"---------------------------------\")\n",
    "\n",
    "print(\"PATIENT D049 DICE SCORE\")\n",
    "print(\"At threshold 0.5 = \", dice_score(\"OUTPUT/PROBABILITY-MAPS/TEST-PATIENTS/SEGMENTED-MAPS/S-Probability-Map-D049.nii\", \"Segmentation-label-D049.nrrd\", \"DISCRETE/Lesion-Masks/wD049_Lesion.nii\", 0.5))\n",
    "print(\"At threshold 0.8 = \", dice_score(\"OUTPUT/PROBABILITY-MAPS/TEST-PATIENTS/SEGMENTED-MAPS/S-Probability-Map-D049.nii\", \"Segmentation-label-D049.nrrd\", \"DISCRETE/Lesion-Masks/wD049_Lesion.nii\", 0.8))\n",
    "print(\"At threshold 0.94 = \", dice_score(\"OUTPUT/PROBABILITY-MAPS/TEST-PATIENTS/SEGMENTED-MAPS/S-Probability-Map-D049.nii\", \"Segmentation-label-D049.nrrd\", \"DISCRETE/Lesion-Masks/wD049_Lesion.nii\", 0.94))\n",
    "print(\"---------------------------------\")\n",
    "\n"
   ],
   "metadata": {
    "collapsed": false,
    "pycharm": {
     "name": "#%%\n"
    }
   }
  }
 ],
 "metadata": {
  "language_info": {
   "codemirror_mode": {
    "name": "ipython",
    "version": 2
   },
   "file_extension": ".py",
   "mimetype": "text/x-python",
   "name": "python",
   "nbconvert_exporter": "python",
   "pygments_lexer": "ipython2",
   "version": "2.7.6"
  },
  "kernelspec": {
   "name": "python3",
   "language": "python",
   "display_name": "Python 3"
  }
 },
 "nbformat": 4,
 "nbformat_minor": 0
}