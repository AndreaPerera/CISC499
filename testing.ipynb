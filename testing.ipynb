{
 "cells": [
  {
   "cell_type": "markdown",
   "metadata": {
    "collapsed": true,
    "pycharm": {
     "name": "#%% md\n"
    }
   },
   "source": [
    "TESTING MODEL & ASSESSING ACCURACY\n",
    "- Test model on individual discrete patients and on outliers\n",
    "- Generate probability colour maps\n",
    "- Calculate overlap metrics"
   ]
  },
  {
   "cell_type": "code",
   "execution_count": 2,
   "outputs": [],
   "source": [
    "import SimpleITK as sitk\n",
    "import pandas as pd\n",
    "import glob\n",
    "import numpy as np\n",
    "import os\n",
    "import joblib"
   ],
   "metadata": {
    "collapsed": false,
    "pycharm": {
     "name": "#%%\n",
     "is_executing": false
    }
   }
  },
  {
   "cell_type": "markdown",
   "source": [
    "Create DataFrames for Test Patients (Non-outliers and outliers)"
   ],
   "metadata": {
    "collapsed": false,
    "pycharm": {
     "name": "#%% md\n"
    }
   }
  },
  {
   "cell_type": "code",
   "execution_count": 3,
   "outputs": [],
   "source": [
    "# load in model\n",
    "p_clf = joblib.load(\"p-rbf-clf.joblib\")"
   ],
   "metadata": {
    "collapsed": false,
    "pycharm": {
     "name": "#%%\n",
     "is_executing": false
    }
   }
  },
  {
   "cell_type": "code",
   "execution_count": 4,
   "outputs": [],
   "source": [
    "# function to create the DataFrame columns\n",
    "def create_test_col(dir, p_ID, mode):\n",
    "      # modalities =  GM, MD, FA, FICVF, ODI\n",
    "    modes = {'GM': dir + 'GM-OUTPUT/GM-ZMAPS/',\n",
    "            'MD': dir + 'MD-OUTPUT/MD-ZMAPS/',\n",
    "            'FA': dir + 'FA-OUTPUT/FA-ZMAPS/',\n",
    "            'FICVF': dir + 'FICVF-OUTPUT/FICVF-ZMAPS/',\n",
    "            'ODI': dir + 'ODI-OUTPUT/ODI-ZMAPS/'\n",
    "           }\n",
    "    # data is sitk image type\n",
    "    # p_ID is patient ID (string)\n",
    "    \n",
    "    file = glob.glob( modes[mode] + \"*\" + p_ID + \"*.nii\")\n",
    "    if not file:\n",
    "        print(mode + \" modality doesn't exist for \" + p_ID)\n",
    "        return [0] * 2122945 # voxels in flattened mri\n",
    "\n",
    "    img = sitk.ReadImage(file[0])\n",
    "    arr = sitk.GetArrayFromImage(img)\n",
    "    arr = arr.flatten()\n",
    "    return arr\n",
    "\n",
    "# function to bring DataFrame columns together into single DF\n",
    "def create_test_df(dir, test_patient):\n",
    "    data = {'GM' : create_test_col(dir, test_patient, \"GM\"),\n",
    "                        'FA' : create_test_col(dir, test_patient, \"FA\"),\n",
    "                        'MD' : create_test_col(dir, test_patient, \"MD\"),\n",
    "                        'FICVF' : create_test_col(dir, test_patient, \"FICVF\"),\n",
    "                        'ODI' : create_test_col(dir, test_patient, \"ODI\"),\n",
    "        }\n",
    "    df = pd.DataFrame(data, index=None)\n",
    "    return df"
   ],
   "metadata": {
    "collapsed": false,
    "pycharm": {
     "name": "#%%\n",
     "is_executing": false
    }
   }
  },
  {
   "cell_type": "code",
   "execution_count": 5,
   "outputs": [
    {
     "name": "stdout",
     "text": [
      "Creating test patient DFS...\n",
      "DF created for patient:  D046\n",
      "DF created for patient:  D047\n",
      "DF created for patient:  D048\n",
      "DF created for patient:  D049\n\nCreating outlier patient DFS...\n",
      "DF created for outlier:  D021\n",
      "DF created for outlier:  D035\nPatient & Outlier DataFrames Created\n"
     ],
     "output_type": "stream"
    }
   ],
   "source": [
    "# these are the patients we are testing the model with and generation probability maps on\n",
    "# patients have not been seen by the model during training process\n",
    "patient_ids = [\"D046\", \"D047\", \"D048\", 'D049']\n",
    "patient_dfs = []\n",
    "dir = \"OUTPUT/DISCRETE/\"\n",
    "\n",
    "print(\"Creating test patient DFS...\")\n",
    "for patient in patient_ids:\n",
    "    df = create_test_df(dir, patient)\n",
    "    patient_dfs.append(df)\n",
    "    print(\"DF created for patient: \", patient)\n",
    "\n",
    "# outlier patients have larger lesion sizes than training data used (~2500 voxels)\n",
    "# D021 lesion size: 6645 voxels\n",
    "# D035 lesion size: 11836 voxels\n",
    "outlier_ids = [\"D021\", \"D035\"]\n",
    "outlier_dfs = []\n",
    "print(\"\\nCreating outlier patient DFS...\")\n",
    "for outlier in outlier_ids:\n",
    "    df = create_test_df(dir, outlier)\n",
    "    outlier_dfs.append(df)\n",
    "    print(\"DF created for outlier: \", outlier)\n",
    "    \n",
    "print(\"Patient & Outlier DataFrames Created\")"
   ],
   "metadata": {
    "collapsed": false,
    "pycharm": {
     "name": "#%%\n",
     "is_executing": false
    }
   }
  },
  {
   "cell_type": "markdown",
   "source": [
    "Generate Probability Colour Maps"
   ],
   "metadata": {
    "collapsed": false,
    "pycharm": {
     "name": "#%% md\n"
    }
   }
  },
  {
   "cell_type": "code",
   "execution_count": 5,
   "outputs": [],
   "source": [
    "# Function to generate probability maps\n",
    "\n",
    "# simply using example_img so we can use the sitk function CopyInformation to ensure when we convert from\n",
    "# array to image, the original image properties are maintained\n",
    "example_img = sitk.ReadImage(\"OUTPUT/DISCRETE/GM-OUTPUT/GM-ZMAPS/Z-smwc1D049_T1.nii\") \n",
    "def generate_colour_map(OUTPUT_DIR, df, p_ID):\n",
    "    X_test_patient = df\n",
    "    print(\"Predicting probability of patient: \", p_ID)\n",
    "    y_pred_patient = p_clf.predict_proba(X_test_patient)\n",
    "    print(\"Completed prediction of patient: \", p_ID)\n",
    "    print(\"Converting to MRI\")\n",
    "    vals = [y[1] for y in y_pred_patient] # take probabilities that there is a lesion present\n",
    "    vals = np.asarray(vals) \n",
    "    y_pred_patient_3D = vals.reshape((121, 145, 121)).transpose() # convert back to 3D array (MRI)\n",
    "    y_pred_patient_3D_img = sitk.GetImageFromArray(y_pred_patient_3D) # convert 3D array to nifti image\n",
    "    y_pred_patient_3D_img.CopyInformation(example_img)\n",
    "    filename = \"Probability-Map-\" + p_ID + \".nii\"\n",
    "    print(\"Writing image...\")\n",
    "    sitk.WriteImage(y_pred_patient_3D_img, os.path.join(OUTPUT_DIR, filename))\n",
    "    print(\"Probability map generated for patient: \", p_ID)\n",
    "    \n",
    "    \n",
    "    "
   ],
   "metadata": {
    "collapsed": false,
    "pycharm": {
     "name": "#%%\n",
     "is_executing": false
    }
   }
  },
  {
   "cell_type": "code",
   "execution_count": 6,
   "outputs": [
    {
     "name": "stdout",
     "text": [
      "Generating probability maps for test patients...\nPredicting probability of patient:  D046\n",
      "Completed prediction of patient:  D046\nConverting to MRI\n",
      "Writing image...\nProbability map generated for patient:  D046\nPredicting probability of patient:  D047\n",
      "Completed prediction of patient:  D047\nConverting to MRI\n",
      "Writing image...\nProbability map generated for patient:  D047\nPredicting probability of patient:  D048\n",
      "Completed prediction of patient:  D048\nConverting to MRI\n",
      "Writing image...\nProbability map generated for patient:  D048\nPredicting probability of patient:  D049\n",
      "Completed prediction of patient:  D049\nConverting to MRI\n",
      "Writing image...\nProbability map generated for patient:  D049\n"
     ],
     "output_type": "stream"
    }
   ],
   "source": [
    "print(\"Generating probability maps for test patients...\")\n",
    "dir =\"OUTPUT/PROBABILITY-MAPS/TEST-PATIENTS\"\n",
    "\n",
    "for df, p_id in zip(patient_dfs, patient_ids):\n",
    "    generate_colour_map(dir, df, p_id)"
   ],
   "metadata": {
    "collapsed": false,
    "pycharm": {
     "name": "#%%\n",
     "is_executing": false
    }
   }
  },
  {
   "cell_type": "code",
   "execution_count": 7,
   "outputs": [
    {
     "name": "stdout",
     "text": [
      "Generating probability maps for outliers...\nPredicting probability of patient:  D021\n",
      "Completed prediction of patient:  D021\nConverting to MRI\n",
      "Writing image...\nProbability map generated for patient:  D021\nPredicting probability of patient:  D035\n",
      "Completed prediction of patient:  D035\nConverting to MRI\n",
      "Writing image...\nProbability map generated for patient:  D035\n"
     ],
     "output_type": "stream"
    }
   ],
   "source": [
    "print(\"Generating probability maps for outliers...\")\n",
    "dir =\"OUTPUT/PROBABILITY-MAPS/OUTLIERS\"\n",
    "\n",
    "for df, p_id in zip(outlier_dfs, outlier_ids):\n",
    "    generate_colour_map(dir, df, p_id)"
   ],
   "metadata": {
    "collapsed": false,
    "pycharm": {
     "name": "#%%\n",
     "is_executing": false
    }
   }
  },
  {
   "cell_type": "markdown",
   "source": [
    "Segment Probability Maps"
   ],
   "metadata": {
    "collapsed": false,
    "pycharm": {
     "name": "#%% md\n"
    }
   }
  },
  {
   "cell_type": "code",
   "execution_count": 18,
   "outputs": [],
   "source": [
    "# we want to exclude the air around the resulting probability map so we use\n",
    "# a segmentation label created using 3DSlicer and simply multiply the 2 images together\n",
    "def segment_prob_map(dir, predicted_img, segment_mask_arr):\n",
    "    pred_img = sitk.ReadImage(predicted_img)\n",
    "    pred_img_arr = sitk.GetArrayFromImage(pred_img)\n",
    "    segmented_pred = segment_mask_arr * pred_img_arr\n",
    "    segmented_pred_img = sitk.GetImageFromArray(segmented_pred)\n",
    "    segmented_pred_img.CopyInformation(example_img)\n",
    "    filename = \"S-\" + os.path.basename(predicted_img) + \".nii\"\n",
    "    sitk.WriteImage(segmented_pred_img, os.path.join(dir, filename))\n",
    "    \n",
    "# \n",
    "# segment_mask = sitk.ReadImage('Segmentation-label.nrrd')\n",
    "# segment_mask_arr = sitk.GetArrayFromImage(segment_mask)\n",
    "# segment_mask_arr[segment_mask_arr == 2] = 0\n",
    "# \n",
    "# predicted_img_arr = sitk.GetArrayFromImage(y_pred_patient_3D_img)\n",
    "# segmented_pred= segment_mask_arr * predicted_img_arr\n",
    "# segmented_pred_img = sitk.GetImageFromArray(segmented_pred)\n",
    "# segmented_pred_img.CopyInformation(gm_img)\n",
    "# OUTPUT_DIR = \"OUTPUT/PROBABILITY-MAPS/SEGMENTED-PROB-MAPS\"\n",
    "# filename = \"S-P-\" + os.path.basename(gm_zmap[0])\n",
    "# sitk.WriteImage(segmented_pred_img, os.path.join(OUTPUT_DIR, filename))"
   ],
   "metadata": {
    "collapsed": false,
    "pycharm": {
     "name": "#%% \n",
     "is_executing": false
    }
   }
  },
  {
   "cell_type": "code",
   "execution_count": 9,
   "outputs": [],
   "source": [
    "segment_mask = sitk.ReadImage(\"Segmentation-label.nrrd\")\n",
    "mask_arr = sitk.GetArrayFromImage(segment_mask)\n",
    "mask_arr[mask_arr == 2] = 0 # ensure that positive labels are 1 and negative labels are 0 "
   ],
   "metadata": {
    "collapsed": false,
    "pycharm": {
     "name": "#%%\n",
     "is_executing": false
    }
   }
  },
  {
   "cell_type": "code",
   "execution_count": 22,
   "outputs": [
    {
     "name": "stdout",
     "text": [
      "Segmenting probability maps for test patients...\n",
      "Segmented probability maps created for test patients\n"
     ],
     "output_type": "stream"
    }
   ],
   "source": [
    "print(\"Segmenting probability maps for test patients...\")\n",
    "test_maps = glob.glob(\"OUTPUT/PROBABILITY-MAPS/TEST-PATIENTS/*.nii\")\n",
    "dir =\"OUTPUT/PROBABILITY-MAPS/TEST-PATIENTS/SEGMENTED-MAPS\"\n",
    "for map in test_maps:\n",
    "    segment_prob_map(dir, map, mask_arr)\n",
    "print(\"Segmented probability maps created for test patients\")"
   ],
   "metadata": {
    "collapsed": false,
    "pycharm": {
     "name": "#%%\n",
     "is_executing": false
    }
   }
  },
  {
   "cell_type": "code",
   "execution_count": 21,
   "outputs": [
    {
     "name": "stdout",
     "text": [
      "Segmenting probability maps for outliers...\n",
      "Outlier probability maps segmented\n"
     ],
     "output_type": "stream"
    }
   ],
   "source": [
    "print(\"Segmenting probability maps for outliers...\")\n",
    "dir =\"OUTPUT/PROBABILITY-MAPS/OUTLIERS/SEGMENTED-MAPS\"\n",
    "outlier_maps = glob.glob(\"OUTPUT/PROBABILITY-MAPS/OUTLIERS/*.nii\")\n",
    "for map in outlier_maps:\n",
    "    segment_prob_map(dir, map, mask_arr)\n",
    "print(\"Outlier probability maps segmented\")"
   ],
   "metadata": {
    "collapsed": false,
    "pycharm": {
     "name": "#%%\n",
     "is_executing": false
    }
   }
  },
  {
   "cell_type": "markdown",
   "source": [
    "Calculate Dice overlap for one patient"
   ],
   "metadata": {
    "collapsed": false,
    "pycharm": {
     "name": "#%% md\n",
     "is_executing": false
    }
   }
  },
  {
   "cell_type": "code",
   "execution_count": 6,
   "outputs": [],
   "source": [
    "# import lesion segmentation map to isolate smaller area around abnormal voxel prediction\n",
    "# in order to more accurately predict dice score\n",
    "lesion_seg_area = sitk.ReadImage(\"Lesion-Seg-D048.nrrd\")\n",
    "lesion_seg_area = sitk.GetArrayFromImage(lesion_seg_area)\n",
    "lesion_seg_area[lesion_seg_area == 2 ] = 0 # ensure positive labels are 1 and negative labels are 0"
   ],
   "metadata": {
    "collapsed": false,
    "pycharm": {
     "name": "#%% \n",
     "is_executing": false
    }
   }
  },
  {
   "cell_type": "code",
   "execution_count": 24,
   "outputs": [
    {
     "name": "stdout",
     "text": [
      "Dice similarity score is 0.07958726081372314\n"
     ],
     "output_type": "stream"
    }
   ],
   "source": [
    "# segment area around probability map where abnormal voxels were predicted near actual lesion\n",
    "patient_48_prob = sitk.ReadImage(\"OUTPUT/PROBABILITY-MAPS/TEST-PATIENTS/SEGMENTED-MAPS/S-Probability-Map-D048.nii\")\n",
    "patient_48_arr = sitk.GetArrayFromImage(patient_48_prob)\n",
    "# in order to calculate dice coefficient we must convert probability to binary\n",
    "patient_48_arr[patient_48_arr >= 0.5 ] = 1\n",
    "patient_48_arr[patient_48_arr < 0.5] = 0\n",
    "seg_patient_48_arr = patient_48_arr * lesion_seg_area # segment area\n",
    "patient_48_lesion_arr = sitk.GetArrayFromImage(sitk.ReadImage(\"DISCRETE/Lesion-Masks/wD048_Lesion.nii\"))\n",
    "\n",
    "seg = seg_patient_48_arr\n",
    "truth = patient_48_arr\n",
    "\n",
    "k = 1\n",
    "dice = np.sum(seg[truth==k]==k)*2.0 / (np.sum(seg[seg==k]==k) + np.sum(truth[truth==k]==k))\n",
    "\n",
    "print(\"Dice similarity score is {}\".format(dice))\n"
   ],
   "metadata": {
    "collapsed": false,
    "pycharm": {
     "name": "#%%\n",
     "is_executing": false
    }
   }
  }
 ],
 "metadata": {
  "language_info": {
   "codemirror_mode": {
    "name": "ipython",
    "version": 2
   },
   "file_extension": ".py",
   "mimetype": "text/x-python",
   "name": "python",
   "nbconvert_exporter": "python",
   "pygments_lexer": "ipython2",
   "version": "2.7.6"
  },
  "kernelspec": {
   "name": "python3",
   "language": "python",
   "display_name": "Python 3"
  },
  "pycharm": {
   "stem_cell": {
    "cell_type": "raw",
    "source": [],
    "metadata": {
     "collapsed": false
    }
   }
  }
 },
 "nbformat": 4,
 "nbformat_minor": 0
}